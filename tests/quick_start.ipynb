{
 "cells": [
  {
   "cell_type": "code",
   "execution_count": 1,
   "id": "initial_id",
   "metadata": {
    "ExecuteTime": {
     "end_time": "2023-11-27T01:56:27.845726Z",
     "start_time": "2023-11-27T01:56:27.400354Z"
    }
   },
   "outputs": [],
   "source": [
    "from elisa.data.ogip import Data"
   ]
  },
  {
   "cell_type": "code",
   "execution_count": 2,
   "id": "f1b5841d68b052e4",
   "metadata": {
    "ExecuteTime": {
     "end_time": "2023-11-27T01:56:28.016614Z",
     "start_time": "2023-11-27T01:56:27.843940Z"
    },
    "collapsed": false,
    "jupyter": {
     "outputs_hidden": false
    }
   },
   "outputs": [],
   "source": [
    "det = 'n7'\n",
    "spec = f'/Users/xuewc/ObsData/GRB231115A/GBM/{det}.pha'\n",
    "back = f'/Users/xuewc/ObsData/GRB231115A/GBM/{det}.bak'\n",
    "resp = f'/Users/xuewc/ObsData/GRB231115A/GBM/{det}.rsp'\n",
    "d = Data((8, 900), spec, back, resp, name=det, group='bpos', scale=0.001)"
   ]
  }
 ],
 "metadata": {
  "kernelspec": {
   "display_name": "Python 3 (ipykernel)",
   "language": "python",
   "name": "python3"
  },
  "language_info": {
   "codemirror_mode": {
    "name": "ipython",
    "version": 3
   },
   "file_extension": ".py",
   "mimetype": "text/x-python",
   "name": "python",
   "nbconvert_exporter": "python",
   "pygments_lexer": "ipython3",
   "version": "3.10.12"
  }
 },
 "nbformat": 4,
 "nbformat_minor": 5
}
