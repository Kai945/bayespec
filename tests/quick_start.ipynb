{
 "cells": [
  {
   "cell_type": "code",
   "execution_count": 1,
   "id": "initial_id",
   "metadata": {
    "ExecuteTime": {
     "end_time": "2023-11-27T01:56:27.845726Z",
     "start_time": "2023-11-27T01:56:27.400354Z"
    }
   },
   "outputs": [],
   "source": [
    "from elisa.data.ogip import Data"
   ]
  },
  {
   "cell_type": "code",
   "execution_count": 2,
   "id": "f1b5841d68b052e4",
   "metadata": {
    "ExecuteTime": {
     "end_time": "2023-11-27T01:56:28.016614Z",
     "start_time": "2023-11-27T01:56:27.843940Z"
    },
    "collapsed": false,
    "jupyter": {
     "outputs_hidden": false
    }
   },
   "outputs": [],
   "source": [
    "det = 'n7'\n",
    "spec = f'/Users/xuewc/ObsData/GRB231115A/GBM/{det}.pha'\n",
    "back = f'/Users/xuewc/ObsData/GRB231115A/GBM/{det}.bak'\n",
    "resp = f'/Users/xuewc/ObsData/GRB231115A/GBM/{det}.rsp'\n",
    "d = Data((8, 900), spec, back, resp, name=det, group='bpos', scale=0.001)"
   ]
  },
  {
   "cell_type": "code",
   "execution_count": 4,
   "id": "b4a5f3d329b69acc",
   "metadata": {
    "collapsed": false,
    "jupyter": {
     "outputs_hidden": false
    }
   },
   "outputs": [
    {
     "name": "stdout",
     "output_type": "stream",
     "text": [
      "back_counts 0.0\n",
      "back_error 0.0\n",
      "net_counts 4.440892098500626e-16\n",
      "net_error 4.440892098500626e-16\n",
      "net_spec 1.7763568394002505e-15\n",
      "ch_emin 0.0\n",
      "ch_emax 0.0\n",
      "ch_width 0.0\n",
      "ch_error 4.963413395842053e-07\n",
      "resp_matrix 0.0\n",
      "ph_egrid 0.0\n"
     ]
    }
   ],
   "source": [
    "import os\n",
    "os.sys.path.append(os.path.abspath('../..'))\n",
    "from elisa.src.elisa.data.ogip import Data\n",
    "from elisa.v0.data import Data as Data0\n",
    "\n",
    "import numpy as np\n",
    "\n",
    "det = 'n7'\n",
    "spec = f'/Users/xuewc/ObsData/GRB231115A/GBM/{det}.pha'\n",
    "back = f'/Users/xuewc/ObsData/GRB231115A/GBM/{det}.bak'\n",
    "resp = f'/Users/xuewc/ObsData/GRB231115A/GBM/{det}.rsp'\n",
    "d = Data((8, 900), spec, back, resp, name=det, group='bpos', scale=0.001)\n",
    "d0 = Data0((8, 900), spec, back, resp, name=det, group='bpos', scale=0.001)\n",
    "path = '/Users/xuewc/ObsData/FRB221014/HXMT/'\n",
    "d = Data([2, 10], f'{path}/LE_optbmin5.fits',\n",
    "          f'{path}/LE_phabkg20s_g0_0-94.pha', f'{path}/LE_rsp.rsp',\n",
    "          group='bmin', scale=25)\n",
    "d0 = Data0([2, 10], f'{path}/LE_optbmin5.fits',\n",
    "          f'{path}/LE_phabkg20s_g0_0-94.pha', f'{path}/LE_rsp.rsp',\n",
    "          group='bmin', scale=25)\n",
    "for i in ['back_counts', 'back_error', 'net_counts', 'net_error', 'net_spec', 'ch_emin', 'ch_emax', 'ch_width', 'ch_error', 'resp_matrix', 'ph_egrid']:\n",
    "    if i == 'ch_error':\n",
    "        print(i, np.abs(getattr(d, i)-np.abs(getattr(d0, i))).max())\n",
    "    elif i == 'ph_egrid':\n",
    "        print(i, np.abs(d.ph_egrid-d0.ph_ebins).max())\n",
    "    else:\n",
    "        print(i, np.abs(getattr(d, i)-getattr(d0, i)).max())"
   ]
  },
  {
   "cell_type": "code",
   "execution_count": 14,
   "id": "67112a6d-e460-4790-981d-93ab2a83e9ef",
   "metadata": {},
   "outputs": [
    {
     "name": "stdout",
     "output_type": "stream",
     "text": [
      "Band\n",
      "{'alpha': [-1.0, -10.0, 5.0, False, False], 'beta': [-2.0, -10.0, 10.0, False, False], 'Ec': [300.0, 10.0, 10000.0, False, False], 'norm': [1, 1e-10, 10000000000.0, False, False]}\n",
      "\n",
      "(('alpha', '\\\\alpha', -1.0, -10.0, 5.0, False, False), ('beta', '\\\\beta', -2.0, -10.0, 10.0, False, False), ('Ec', '\\\\E_{\\\\rm c}', 300.0, 10.0, 10000.0, False, False), ('K', 'K', 1, 1e-10, 10000000000.0, False, False))\n",
      "\n",
      "BandEp\n",
      "{'alpha': [-1.0, -10.0, 5.0, False, False], 'beta': [-2.0, -10.0, 10.0, False, False], 'Ep': [300.0, 10.0, 10000.0, False, False], 'norm': [1, 1e-10, 10000000000.0, False, False]}\n",
      "\n",
      "(('alpha', '\\\\alpha', -1.0, -10.0, 5.0, False, False), ('beta', '\\\\beta', -2.0, -10.0, 10.0, False, False), ('Ep', '\\\\E_{\\\\rm p}', 300.0, 10.0, 10000.0, False, False), ('K', 'K', 1, 1e-10, 10000000000.0, False, False))\n",
      "\n",
      "BlackBody\n",
      "{'kT': [3.0, 0.0001, 200.0, False, False], 'norm': [1, 1e-10, 10000000000.0, False, False]}\n",
      "\n",
      "(('kT', 'kT', 3.0, 0.0001, 200.0, False, False), ('K', 'K', 1.0, 1e-10, 10000000000.0, False, False))\n",
      "\n",
      "BlackBodyRad\n",
      "{'kT': [3.0, 0.0001, 200.0, False, False], 'norm': [1, 1e-10, 10000000000.0, False, False]}\n",
      "\n",
      "(('kT', 'kT', 3.0, 0.0001, 200.0, False, False), ('K', 'K', 1.0, 1e-10, 10000000000.0, False, False))\n",
      "\n",
      "Comptonized\n",
      "{'alpha': [-1.0, -10.0, 3.0, False, False], 'Ep': [15.0, 0.01, 10000.0, False, False], 'norm': [1, 1e-10, 10000000000.0, False, False]}\n",
      "\n",
      "(('alpha', '\\\\alpha', -1.0, -10.0, 3.0, False, False), ('Ep', 'E_{\\\\rm p}', 15.0, 0.01, 10000.0, False, False), ('K', 'K', 1, 1e-10, 10000000000.0, False, False))\n",
      "\n",
      "CutoffPowerlaw\n",
      "{'PhoIndex': [1.0, -3.0, 10.0, False, False], 'Ec': [15.0, 0.01, 10000.0, False, False], 'norm': [1, 1e-10, 10000000000.0, False, False]}\n",
      "\n",
      "(('alpha', '\\\\alpha', -1.0, -10.0, 3.0, False, False), ('Ec', 'E_{\\\\rm c}', 15.0, 0.01, 10000.0, False, False), ('K', 'K', 1, 1e-10, 10000000000.0, False, False))\n",
      "\n",
      "OTTB\n",
      "{'kT': [30.0, 0.1, 1000.0, False, False], 'norm': [1, 1e-10, 10000000000.0, False, False]}\n",
      "\n",
      "(('kT', 'kT', 30.0, 0.1, 1000.0, False, False), ('K', 'K', 1, 1e-10, 10000000000.0, False, False))\n",
      "\n",
      "Powerlaw\n",
      "{'PhoIndex': [1.01, -3.0, 10.0, False, False], 'norm': [1, 1e-10, 10000000000.0, False, False]}\n",
      "\n",
      "(('alpha', '\\\\alpha', 1.01, -3.0, 10.0, False, False), ('K', 'K', 1.0, 1e-10, 10000000000.0, False, False))\n",
      "\n"
     ]
    }
   ],
   "source": [
    "import os\n",
    "os.sys.path.append(os.path.abspath('../..'))\n",
    "import jax\n",
    "jax.config.update(\"jax_enable_x64\", True)\n",
    "from elisa.src.elisa import model\n",
    "from elisa.v0 import model as model0\n",
    "\n",
    "import numpy as np\n",
    "\n",
    "test = [\n",
    " 'Band',\n",
    " 'BandEp',\n",
    " 'BlackBody',\n",
    " 'BlackBodyRad',\n",
    " 'Comptonized',\n",
    " 'CutoffPowerlaw',\n",
    " 'OTTB',\n",
    " 'Powerlaw',\n",
    "]\n",
    "\n",
    "for mstr in test:\n",
    "    print(mstr)\n",
    "    m = getattr(model0, mstr)()\n",
    "    mname = m.comps_name[0]\n",
    "    params = getattr(m, m.comps_name[0])._config\n",
    "    print(params)\n",
    "    print()\n",
    "    params = [v[0] for v in params.values()]\n",
    "\n",
    "    eval1=m.eval(params, np.geomspace(1, 10, 100))\n",
    "    \n",
    "    if mstr == 'Powerlaw':\n",
    "        kw = {}\n",
    "    else:\n",
    "        kw = dict(method='simpson')\n",
    "    m2 = getattr(model, mstr)(**kw)\n",
    "    mname = m2.__class__.__name__.lower()\n",
    "    print(m2._default)\n",
    "    print()\n",
    "    params = {i[0]: i[2] for i in m2._default}\n",
    "\n",
    "    eval2 = m2._wrapped_func(np.geomspace(1, 10, 100), {mname: params})\n",
    "\n",
    "    if not np.allclose(eval1, eval2):\n",
    "        print(np.abs((eval1-eval2)/eval1).max())\n",
    "        print(mstr)"
   ]
  },
  {
   "cell_type": "code",
   "execution_count": null,
   "id": "eed4ce7f-8295-48fc-a4d7-7f74e0774cef",
   "metadata": {},
   "outputs": [],
   "source": []
  }
 ],
 "metadata": {
  "kernelspec": {
   "display_name": "Python 3 (ipykernel)",
   "language": "python",
   "name": "python3"
  },
  "language_info": {
   "codemirror_mode": {
    "name": "ipython",
    "version": 3
   },
   "file_extension": ".py",
   "mimetype": "text/x-python",
   "name": "python",
   "nbconvert_exporter": "python",
   "pygments_lexer": "ipython3",
   "version": "3.10.12"
  }
 },
 "nbformat": 4,
 "nbformat_minor": 5
}
