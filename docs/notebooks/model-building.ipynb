{
 "cells": [
  {
   "cell_type": "markdown",
   "id": "322338f8bfb9b6e4",
   "metadata": {},
   "source": [
    "(model-building)="
   ]
  },
  {
   "cell_type": "markdown",
   "id": "fde9a82951c91aad",
   "metadata": {},
   "source": [
    "# Model Building\n",
    "\n",
    "The modeling framework of ``ELISA`` is designed to be flexible, allowing you\n",
    "to construct arbitrarily complex models by combining models from ELISA or\n",
    "Xspec, as well as your custom models. Links between parameters\n",
    "across different model components can also be established. These models can\n",
    "then be fitted to the spectral datasets."
   ]
  },
  {
   "cell_type": "markdown",
   "id": "2cdf535248ba99a8",
   "metadata": {},
   "source": [
    "## The Model Interface\n",
    "\n",
    "In the context of X/$\\gamma$-ray spectral fitting, a spectral model is a\n",
    "photon flux model. The model may be composed by a single flux component, or\n",
    "many additive flux components, and these additive components can be further\n",
    "modified by multiplicative or convolution components. You can check\n",
    "``ELISA``'s built-in model components from the {ref}`api`:\n",
    "\n",
    "- [additive](#elisa.models.add)\n",
    "- [multiplicative](#elisa.models.mul)\n",
    "- [convolution](#elisa.models.conv)\n",
    "\n",
    "### Create a Model\n",
    "To use the spectral models in ``ELISA``, you can run the following code to import\n",
    "all model classes of three types from the ``elisa.models`` module:"
   ]
  },
  {
   "cell_type": "code",
   "execution_count": 1,
   "id": "6af307bbb67cdd84",
   "metadata": {
    "ExecuteTime": {
     "end_time": "2024-05-17T16:21:15.997719Z",
     "start_time": "2024-05-17T16:21:13.340720Z"
    }
   },
   "outputs": [
    {
     "name": "stdout",
     "output_type": "stream",
     "text": [
      " Solar Abundance Vector set to angr:  Anders E. & Grevesse N. Geochimica et Cosmochimica Acta 53, 197 (1989)\n",
      " Cross Section Table set to vern:  Verner, Ferland, Korista, and Yakovlev 1996\n"
     ]
    }
   ],
   "source": [
    "from elisa.models import *"
   ]
  },
  {
   "cell_type": "markdown",
   "id": "7917b39ef4e435bd",
   "metadata": {},
   "source": [
    "After the import, you can create an instance of a model by calling the model\n",
    "class. For example, the following code creates a [`PowerLaw`](#elisa.models.add.PowerLaw)\n",
    "photon flux model:"
   ]
  },
  {
   "cell_type": "code",
   "execution_count": 2,
   "id": "bcae08f7aa0a1de8",
   "metadata": {
    "ExecuteTime": {
     "end_time": "2024-05-17T16:21:16.070377Z",
     "start_time": "2024-05-17T16:21:15.999024Z"
    }
   },
   "outputs": [
    {
     "data": {
      "text/html": [
       "<details open><summary><b>Model: PowerLaw [add]</b></summary><table frame=\"box\" rules=\"all\">\n",
       "    <thead>\n",
       "        <tr>\n",
       "            <th style=\"padding-left: 1em; padding-right: 1em; text-align: center\">No.</th>\n",
       "            <th style=\"padding-left: 1em; padding-right: 1em; text-align: center\">Component</th>\n",
       "            <th style=\"padding-left: 1em; padding-right: 1em; text-align: center\">Parameter</th>\n",
       "            <th style=\"padding-left: 1em; padding-right: 1em; text-align: center\">Value</th>\n",
       "            <th style=\"padding-left: 1em; padding-right: 1em; text-align: center\">Bound</th>\n",
       "            <th style=\"padding-left: 1em; padding-right: 1em; text-align: center\">Prior</th>\n",
       "        </tr>\n",
       "    </thead>\n",
       "    <tbody>\n",
       "        <tr>\n",
       "            <td style=\"padding-left: 1em; padding-right: 1em; text-align: center; vertical-align: top\">1</td>\n",
       "            <td style=\"padding-left: 1em; padding-right: 1em; text-align: center; vertical-align: top\">PowerLaw</td>\n",
       "            <td style=\"padding-left: 1em; padding-right: 1em; text-align: center; vertical-align: top\">alpha</td>\n",
       "            <td style=\"padding-left: 1em; padding-right: 1em; text-align: center; vertical-align: top\">1.01</td>\n",
       "            <td style=\"padding-left: 1em; padding-right: 1em; text-align: center; vertical-align: top\">(-3, 10)</td>\n",
       "            <td style=\"padding-left: 1em; padding-right: 1em; text-align: center; vertical-align: top\">Uniform(-3, 10)</td>\n",
       "        </tr>\n",
       "        <tr>\n",
       "            <td style=\"padding-left: 1em; padding-right: 1em; text-align: center; vertical-align: top\">2</td>\n",
       "            <td style=\"padding-left: 1em; padding-right: 1em; text-align: center; vertical-align: top\">PowerLaw</td>\n",
       "            <td style=\"padding-left: 1em; padding-right: 1em; text-align: center; vertical-align: top\">K</td>\n",
       "            <td style=\"padding-left: 1em; padding-right: 1em; text-align: center; vertical-align: top\">1</td>\n",
       "            <td style=\"padding-left: 1em; padding-right: 1em; text-align: center; vertical-align: top\">(1e-10, 1e+10)</td>\n",
       "            <td style=\"padding-left: 1em; padding-right: 1em; text-align: center; vertical-align: top\">Uniform(1e-10, 1e+10)</td>\n",
       "        </tr>\n",
       "    </tbody>\n",
       "</table></details>"
      ],
      "text/plain": [
       "Model: PowerLaw [add]\n",
       "┌─────┬───────────┬───────────┬───────┬────────────────┬───────────────────────┐\n",
       "│ No. │ Component │ Parameter │ Value │     Bound      │         Prior         │\n",
       "├─────┼───────────┼───────────┼───────┼────────────────┼───────────────────────┤\n",
       "│  1  │  PowerLaw │   alpha   │  1.01 │    (-3, 10)    │    Uniform(-3, 10)    │\n",
       "├─────┼───────────┼───────────┼───────┼────────────────┼───────────────────────┤\n",
       "│  2  │  PowerLaw │     K     │   1   │ (1e-10, 1e+10) │ Uniform(1e-10, 1e+10) │\n",
       "└─────┴───────────┴───────────┴───────┴────────────────┴───────────────────────┘"
      ]
     },
     "execution_count": 2,
     "metadata": {},
     "output_type": "execute_result"
    }
   ],
   "source": [
    "m = PowerLaw()\n",
    "m"
   ]
  },
  {
   "cell_type": "markdown",
   "id": "46b6dc74e6e59277",
   "metadata": {},
   "source": [
    "The string representation of the model shows its name along with its model type,\n",
    "the components and corresponding parameters. We can see that the parameters are\n",
    "initialized with default values, bounds, and the prior distribution.\n",
    "We will discuss how to configure the default values, bounds, and priors of \n",
    "these parameters in the [parameter interface](#parameter-interface) section."
   ]
  },
  {
   "cell_type": "markdown",
   "id": "744ba641ecde9fb9",
   "metadata": {},
   "source": [
    "Next, we can create a new model by modifying the power-law model with a photoelectric absorption component [`PhAbs`](#elisa.models.mul.PhAbs). We first create the absorption model along with the `angr` abundance table and the `vern` photoelectric cross-section. "
   ]
  },
  {
   "cell_type": "code",
   "execution_count": 3,
   "id": "ebe5aec889a07d23",
   "metadata": {
    "ExecuteTime": {
     "end_time": "2024-05-17T16:21:16.074986Z",
     "start_time": "2024-05-17T16:21:16.071391Z"
    }
   },
   "outputs": [
    {
     "data": {
      "text/html": [
       "<details open><summary><b>Model: PhAbs [mul]</b></summary><table frame=\"box\" rules=\"all\">\n",
       "    <thead>\n",
       "        <tr>\n",
       "            <th style=\"padding-left: 1em; padding-right: 1em; text-align: center\">No.</th>\n",
       "            <th style=\"padding-left: 1em; padding-right: 1em; text-align: center\">Component</th>\n",
       "            <th style=\"padding-left: 1em; padding-right: 1em; text-align: center\">Parameter</th>\n",
       "            <th style=\"padding-left: 1em; padding-right: 1em; text-align: center\">Value</th>\n",
       "            <th style=\"padding-left: 1em; padding-right: 1em; text-align: center\">Bound</th>\n",
       "            <th style=\"padding-left: 1em; padding-right: 1em; text-align: center\">Prior</th>\n",
       "        </tr>\n",
       "    </thead>\n",
       "    <tbody>\n",
       "        <tr>\n",
       "            <td style=\"padding-left: 1em; padding-right: 1em; text-align: center; vertical-align: top\">1</td>\n",
       "            <td style=\"padding-left: 1em; padding-right: 1em; text-align: center; vertical-align: top\">PhAbs</td>\n",
       "            <td style=\"padding-left: 1em; padding-right: 1em; text-align: center; vertical-align: top\">nH</td>\n",
       "            <td style=\"padding-left: 1em; padding-right: 1em; text-align: center; vertical-align: top\">1</td>\n",
       "            <td style=\"padding-left: 1em; padding-right: 1em; text-align: center; vertical-align: top\">(0, 1e+06)</td>\n",
       "            <td style=\"padding-left: 1em; padding-right: 1em; text-align: center; vertical-align: top\">Uniform(0, 1e+06)</td>\n",
       "        </tr>\n",
       "    </tbody>\n",
       "</table></details>"
      ],
      "text/plain": [
       "Model: PhAbs [mul]\n",
       "┌─────┬───────────┬───────────┬───────┬────────────┬───────────────────┐\n",
       "│ No. │ Component │ Parameter │ Value │   Bound    │       Prior       │\n",
       "├─────┼───────────┼───────────┼───────┼────────────┼───────────────────┤\n",
       "│  1  │   PhAbs   │     nH    │   1   │ (0, 1e+06) │ Uniform(0, 1e+06) │\n",
       "└─────┴───────────┴───────────┴───────┴────────────┴───────────────────┘"
      ]
     },
     "execution_count": 3,
     "metadata": {},
     "output_type": "execute_result"
    }
   ],
   "source": [
    "phabs = PhAbs(abund='angr', xsect='vern')\n",
    "phabs"
   ]
  },
  {
   "cell_type": "markdown",
   "id": "b667df1525e5c992",
   "metadata": {},
   "source": [
    "Note that [`PhAbs`](#elisa.models.mul.PhAbs) uses `angr` abundance and `vern`\n",
    "cross-section by default, and thus ``PhAbs(abund='angr', xsect='vern')`` is\n",
    "equivalent to ``PhAbs()``. \n",
    "\n",
    "Then, we can create a new model by multiplying the power-law model with the\n",
    "photoelectric absorption component:"
   ]
  },
  {
   "cell_type": "code",
   "execution_count": 4,
   "id": "3cc713d29b13f587",
   "metadata": {
    "ExecuteTime": {
     "end_time": "2024-05-17T16:21:16.080640Z",
     "start_time": "2024-05-17T16:21:16.076509Z"
    }
   },
   "outputs": [
    {
     "data": {
      "text/html": [
       "<details open><summary><b>Model: PhAbs * PowerLaw [add]</b></summary><table frame=\"box\" rules=\"all\">\n",
       "    <thead>\n",
       "        <tr>\n",
       "            <th style=\"padding-left: 1em; padding-right: 1em; text-align: center\">No.</th>\n",
       "            <th style=\"padding-left: 1em; padding-right: 1em; text-align: center\">Component</th>\n",
       "            <th style=\"padding-left: 1em; padding-right: 1em; text-align: center\">Parameter</th>\n",
       "            <th style=\"padding-left: 1em; padding-right: 1em; text-align: center\">Value</th>\n",
       "            <th style=\"padding-left: 1em; padding-right: 1em; text-align: center\">Bound</th>\n",
       "            <th style=\"padding-left: 1em; padding-right: 1em; text-align: center\">Prior</th>\n",
       "        </tr>\n",
       "    </thead>\n",
       "    <tbody>\n",
       "        <tr>\n",
       "            <td style=\"padding-left: 1em; padding-right: 1em; text-align: center; vertical-align: top\">1</td>\n",
       "            <td style=\"padding-left: 1em; padding-right: 1em; text-align: center; vertical-align: top\">PhAbs</td>\n",
       "            <td style=\"padding-left: 1em; padding-right: 1em; text-align: center; vertical-align: top\">nH</td>\n",
       "            <td style=\"padding-left: 1em; padding-right: 1em; text-align: center; vertical-align: top\">1</td>\n",
       "            <td style=\"padding-left: 1em; padding-right: 1em; text-align: center; vertical-align: top\">(0, 1e+06)</td>\n",
       "            <td style=\"padding-left: 1em; padding-right: 1em; text-align: center; vertical-align: top\">Uniform(0, 1e+06)</td>\n",
       "        </tr>\n",
       "        <tr>\n",
       "            <td style=\"padding-left: 1em; padding-right: 1em; text-align: center; vertical-align: top\">2</td>\n",
       "            <td style=\"padding-left: 1em; padding-right: 1em; text-align: center; vertical-align: top\">PowerLaw</td>\n",
       "            <td style=\"padding-left: 1em; padding-right: 1em; text-align: center; vertical-align: top\">alpha</td>\n",
       "            <td style=\"padding-left: 1em; padding-right: 1em; text-align: center; vertical-align: top\">1.01</td>\n",
       "            <td style=\"padding-left: 1em; padding-right: 1em; text-align: center; vertical-align: top\">(-3, 10)</td>\n",
       "            <td style=\"padding-left: 1em; padding-right: 1em; text-align: center; vertical-align: top\">Uniform(-3, 10)</td>\n",
       "        </tr>\n",
       "        <tr>\n",
       "            <td style=\"padding-left: 1em; padding-right: 1em; text-align: center; vertical-align: top\">3</td>\n",
       "            <td style=\"padding-left: 1em; padding-right: 1em; text-align: center; vertical-align: top\">PowerLaw</td>\n",
       "            <td style=\"padding-left: 1em; padding-right: 1em; text-align: center; vertical-align: top\">K</td>\n",
       "            <td style=\"padding-left: 1em; padding-right: 1em; text-align: center; vertical-align: top\">1</td>\n",
       "            <td style=\"padding-left: 1em; padding-right: 1em; text-align: center; vertical-align: top\">(1e-10, 1e+10)</td>\n",
       "            <td style=\"padding-left: 1em; padding-right: 1em; text-align: center; vertical-align: top\">Uniform(1e-10, 1e+10)</td>\n",
       "        </tr>\n",
       "    </tbody>\n",
       "</table></details>"
      ],
      "text/plain": [
       "Model: PhAbs * PowerLaw [add]\n",
       "┌─────┬───────────┬───────────┬───────┬────────────────┬───────────────────────┐\n",
       "│ No. │ Component │ Parameter │ Value │     Bound      │         Prior         │\n",
       "├─────┼───────────┼───────────┼───────┼────────────────┼───────────────────────┤\n",
       "│  1  │   PhAbs   │     nH    │   1   │   (0, 1e+06)   │   Uniform(0, 1e+06)   │\n",
       "├─────┼───────────┼───────────┼───────┼────────────────┼───────────────────────┤\n",
       "│  2  │  PowerLaw │   alpha   │  1.01 │    (-3, 10)    │    Uniform(-3, 10)    │\n",
       "├─────┼───────────┼───────────┼───────┼────────────────┼───────────────────────┤\n",
       "│  3  │  PowerLaw │     K     │   1   │ (1e-10, 1e+10) │ Uniform(1e-10, 1e+10) │\n",
       "└─────┴───────────┴───────────┴───────┴────────────────┴───────────────────────┘"
      ]
     },
     "execution_count": 4,
     "metadata": {},
     "output_type": "execute_result"
    }
   ],
   "source": [
    "m2 = phabs * PowerLaw()\n",
    "m2"
   ]
  },
  {
   "cell_type": "markdown",
   "id": "392e5a709e8db367",
   "metadata": {},
   "source": [
    "Assume the model is for an extragalactic source with a redshift measurement\n",
    "like $z$ = 1.5, we convolve the photon flux model with [`ZAShift`](#elisa.models.conv.ZAShift)\n",
    "to account for the redshift. We first create the redshift component,"
   ]
  },
  {
   "cell_type": "code",
   "execution_count": 5,
   "id": "d0aaa6dd47fe1d53",
   "metadata": {
    "ExecuteTime": {
     "end_time": "2024-05-17T16:21:16.084785Z",
     "start_time": "2024-05-17T16:21:16.081278Z"
    }
   },
   "outputs": [
    {
     "data": {
      "text/html": [
       "<details open><summary><b>Model: ZAShift [conv]</b></summary><table frame=\"box\" rules=\"all\">\n",
       "    <thead>\n",
       "        <tr>\n",
       "            <th style=\"padding-left: 1em; padding-right: 1em; text-align: center\">No.</th>\n",
       "            <th style=\"padding-left: 1em; padding-right: 1em; text-align: center\">Component</th>\n",
       "            <th style=\"padding-left: 1em; padding-right: 1em; text-align: center\">Parameter</th>\n",
       "            <th style=\"padding-left: 1em; padding-right: 1em; text-align: center\">Value</th>\n",
       "            <th style=\"padding-left: 1em; padding-right: 1em; text-align: center\">Bound</th>\n",
       "            <th style=\"padding-left: 1em; padding-right: 1em; text-align: center\">Prior</th>\n",
       "        </tr>\n",
       "    </thead>\n",
       "    <tbody>\n",
       "        <tr>\n",
       "            <td style=\"padding-left: 1em; padding-right: 1em; text-align: center; vertical-align: top\"></td>\n",
       "            <td style=\"padding-left: 1em; padding-right: 1em; text-align: center; vertical-align: top\">ZAShift</td>\n",
       "            <td style=\"padding-left: 1em; padding-right: 1em; text-align: center; vertical-align: top\">z</td>\n",
       "            <td style=\"padding-left: 1em; padding-right: 1em; text-align: center; vertical-align: top\">1.5</td>\n",
       "            <td style=\"padding-left: 1em; padding-right: 1em; text-align: center; vertical-align: top\"></td>\n",
       "            <td style=\"padding-left: 1em; padding-right: 1em; text-align: center; vertical-align: top\"></td>\n",
       "        </tr>\n",
       "    </tbody>\n",
       "</table></details>"
      ],
      "text/plain": [
       "Model: ZAShift [conv]\n",
       "┌─────┬───────────┬───────────┬───────┬───────┬───────┐\n",
       "│ No. │ Component │ Parameter │ Value │ Bound │ Prior │\n",
       "├─────┼───────────┼───────────┼───────┼───────┼───────┤\n",
       "│     │  ZAShift  │     z     │  1.5  │       │       │\n",
       "└─────┴───────────┴───────────┴───────┴───────┴───────┘"
      ]
     },
     "execution_count": 5,
     "metadata": {},
     "output_type": "execute_result"
    }
   ],
   "source": [
    "redshift = ZAShift(z=1.5)\n",
    "redshift"
   ]
  },
  {
   "cell_type": "markdown",
   "id": "b1b985abc2bd58d1",
   "metadata": {},
   "source": [
    "We can see that the redshift parameter is fixed to 1.5. Now we can create a new\n",
    "model by convolving the previous model with the redshift component:"
   ]
  },
  {
   "cell_type": "code",
   "execution_count": 6,
   "id": "132ae5de027069d7",
   "metadata": {
    "ExecuteTime": {
     "end_time": "2024-05-17T16:21:16.088768Z",
     "start_time": "2024-05-17T16:21:16.085567Z"
    }
   },
   "outputs": [
    {
     "data": {
      "text/html": [
       "<details open><summary><b>Model: ZAShift(PhAbs * PowerLaw) [add]</b></summary><table frame=\"box\" rules=\"all\">\n",
       "    <thead>\n",
       "        <tr>\n",
       "            <th style=\"padding-left: 1em; padding-right: 1em; text-align: center\">No.</th>\n",
       "            <th style=\"padding-left: 1em; padding-right: 1em; text-align: center\">Component</th>\n",
       "            <th style=\"padding-left: 1em; padding-right: 1em; text-align: center\">Parameter</th>\n",
       "            <th style=\"padding-left: 1em; padding-right: 1em; text-align: center\">Value</th>\n",
       "            <th style=\"padding-left: 1em; padding-right: 1em; text-align: center\">Bound</th>\n",
       "            <th style=\"padding-left: 1em; padding-right: 1em; text-align: center\">Prior</th>\n",
       "        </tr>\n",
       "    </thead>\n",
       "    <tbody>\n",
       "        <tr>\n",
       "            <td style=\"padding-left: 1em; padding-right: 1em; text-align: center; vertical-align: top\">1</td>\n",
       "            <td style=\"padding-left: 1em; padding-right: 1em; text-align: center; vertical-align: top\">PhAbs</td>\n",
       "            <td style=\"padding-left: 1em; padding-right: 1em; text-align: center; vertical-align: top\">nH</td>\n",
       "            <td style=\"padding-left: 1em; padding-right: 1em; text-align: center; vertical-align: top\">1</td>\n",
       "            <td style=\"padding-left: 1em; padding-right: 1em; text-align: center; vertical-align: top\">(0, 1e+06)</td>\n",
       "            <td style=\"padding-left: 1em; padding-right: 1em; text-align: center; vertical-align: top\">Uniform(0, 1e+06)</td>\n",
       "        </tr>\n",
       "        <tr>\n",
       "            <td style=\"padding-left: 1em; padding-right: 1em; text-align: center; vertical-align: top\">2</td>\n",
       "            <td style=\"padding-left: 1em; padding-right: 1em; text-align: center; vertical-align: top\">PowerLaw</td>\n",
       "            <td style=\"padding-left: 1em; padding-right: 1em; text-align: center; vertical-align: top\">alpha</td>\n",
       "            <td style=\"padding-left: 1em; padding-right: 1em; text-align: center; vertical-align: top\">1.01</td>\n",
       "            <td style=\"padding-left: 1em; padding-right: 1em; text-align: center; vertical-align: top\">(-3, 10)</td>\n",
       "            <td style=\"padding-left: 1em; padding-right: 1em; text-align: center; vertical-align: top\">Uniform(-3, 10)</td>\n",
       "        </tr>\n",
       "        <tr>\n",
       "            <td style=\"padding-left: 1em; padding-right: 1em; text-align: center; vertical-align: top\">3</td>\n",
       "            <td style=\"padding-left: 1em; padding-right: 1em; text-align: center; vertical-align: top\">PowerLaw</td>\n",
       "            <td style=\"padding-left: 1em; padding-right: 1em; text-align: center; vertical-align: top\">K</td>\n",
       "            <td style=\"padding-left: 1em; padding-right: 1em; text-align: center; vertical-align: top\">1</td>\n",
       "            <td style=\"padding-left: 1em; padding-right: 1em; text-align: center; vertical-align: top\">(1e-10, 1e+10)</td>\n",
       "            <td style=\"padding-left: 1em; padding-right: 1em; text-align: center; vertical-align: top\">Uniform(1e-10, 1e+10)</td>\n",
       "        </tr>\n",
       "        <tr>\n",
       "            <td style=\"padding-left: 1em; padding-right: 1em; text-align: center; vertical-align: top\"></td>\n",
       "            <td style=\"padding-left: 1em; padding-right: 1em; text-align: center; vertical-align: top\">ZAShift</td>\n",
       "            <td style=\"padding-left: 1em; padding-right: 1em; text-align: center; vertical-align: top\">z</td>\n",
       "            <td style=\"padding-left: 1em; padding-right: 1em; text-align: center; vertical-align: top\">1.5</td>\n",
       "            <td style=\"padding-left: 1em; padding-right: 1em; text-align: center; vertical-align: top\"></td>\n",
       "            <td style=\"padding-left: 1em; padding-right: 1em; text-align: center; vertical-align: top\"></td>\n",
       "        </tr>\n",
       "    </tbody>\n",
       "</table></details>"
      ],
      "text/plain": [
       "Model: ZAShift(PhAbs * PowerLaw) [add]\n",
       "┌─────┬───────────┬───────────┬───────┬────────────────┬───────────────────────┐\n",
       "│ No. │ Component │ Parameter │ Value │     Bound      │         Prior         │\n",
       "├─────┼───────────┼───────────┼───────┼────────────────┼───────────────────────┤\n",
       "│  1  │   PhAbs   │     nH    │   1   │   (0, 1e+06)   │   Uniform(0, 1e+06)   │\n",
       "├─────┼───────────┼───────────┼───────┼────────────────┼───────────────────────┤\n",
       "│  2  │  PowerLaw │   alpha   │  1.01 │    (-3, 10)    │    Uniform(-3, 10)    │\n",
       "├─────┼───────────┼───────────┼───────┼────────────────┼───────────────────────┤\n",
       "│  3  │  PowerLaw │     K     │   1   │ (1e-10, 1e+10) │ Uniform(1e-10, 1e+10) │\n",
       "├─────┼───────────┼───────────┼───────┼────────────────┼───────────────────────┤\n",
       "│     │  ZAShift  │     z     │  1.5  │                │                       │\n",
       "└─────┴───────────┴───────────┴───────┴────────────────┴───────────────────────┘"
      ]
     },
     "execution_count": 6,
     "metadata": {},
     "output_type": "execute_result"
    }
   ],
   "source": [
    "m3 = redshift(m2)\n",
    "m3"
   ]
  },
  {
   "cell_type": "markdown",
   "id": "1bfb8c40e25009ab",
   "metadata": {},
   "source": [
    "The model is now a power-law model with photoelectric absorption, and further\n",
    "modified by the redshift.\n",
    "\n",
    "Note that the same model can be created with a single line code:"
   ]
  },
  {
   "cell_type": "code",
   "execution_count": 7,
   "id": "d2d49cf770552400",
   "metadata": {
    "ExecuteTime": {
     "end_time": "2024-05-17T16:21:16.094537Z",
     "start_time": "2024-05-17T16:21:16.089419Z"
    }
   },
   "outputs": [
    {
     "data": {
      "text/html": [
       "<details open><summary><b>Model: ZAShift(PhAbs * PowerLaw) [add]</b></summary><table frame=\"box\" rules=\"all\">\n",
       "    <thead>\n",
       "        <tr>\n",
       "            <th style=\"padding-left: 1em; padding-right: 1em; text-align: center\">No.</th>\n",
       "            <th style=\"padding-left: 1em; padding-right: 1em; text-align: center\">Component</th>\n",
       "            <th style=\"padding-left: 1em; padding-right: 1em; text-align: center\">Parameter</th>\n",
       "            <th style=\"padding-left: 1em; padding-right: 1em; text-align: center\">Value</th>\n",
       "            <th style=\"padding-left: 1em; padding-right: 1em; text-align: center\">Bound</th>\n",
       "            <th style=\"padding-left: 1em; padding-right: 1em; text-align: center\">Prior</th>\n",
       "        </tr>\n",
       "    </thead>\n",
       "    <tbody>\n",
       "        <tr>\n",
       "            <td style=\"padding-left: 1em; padding-right: 1em; text-align: center; vertical-align: top\">1</td>\n",
       "            <td style=\"padding-left: 1em; padding-right: 1em; text-align: center; vertical-align: top\">PhAbs</td>\n",
       "            <td style=\"padding-left: 1em; padding-right: 1em; text-align: center; vertical-align: top\">nH</td>\n",
       "            <td style=\"padding-left: 1em; padding-right: 1em; text-align: center; vertical-align: top\">1</td>\n",
       "            <td style=\"padding-left: 1em; padding-right: 1em; text-align: center; vertical-align: top\">(0, 1e+06)</td>\n",
       "            <td style=\"padding-left: 1em; padding-right: 1em; text-align: center; vertical-align: top\">Uniform(0, 1e+06)</td>\n",
       "        </tr>\n",
       "        <tr>\n",
       "            <td style=\"padding-left: 1em; padding-right: 1em; text-align: center; vertical-align: top\">2</td>\n",
       "            <td style=\"padding-left: 1em; padding-right: 1em; text-align: center; vertical-align: top\">PowerLaw</td>\n",
       "            <td style=\"padding-left: 1em; padding-right: 1em; text-align: center; vertical-align: top\">alpha</td>\n",
       "            <td style=\"padding-left: 1em; padding-right: 1em; text-align: center; vertical-align: top\">1.01</td>\n",
       "            <td style=\"padding-left: 1em; padding-right: 1em; text-align: center; vertical-align: top\">(-3, 10)</td>\n",
       "            <td style=\"padding-left: 1em; padding-right: 1em; text-align: center; vertical-align: top\">Uniform(-3, 10)</td>\n",
       "        </tr>\n",
       "        <tr>\n",
       "            <td style=\"padding-left: 1em; padding-right: 1em; text-align: center; vertical-align: top\">3</td>\n",
       "            <td style=\"padding-left: 1em; padding-right: 1em; text-align: center; vertical-align: top\">PowerLaw</td>\n",
       "            <td style=\"padding-left: 1em; padding-right: 1em; text-align: center; vertical-align: top\">K</td>\n",
       "            <td style=\"padding-left: 1em; padding-right: 1em; text-align: center; vertical-align: top\">1</td>\n",
       "            <td style=\"padding-left: 1em; padding-right: 1em; text-align: center; vertical-align: top\">(1e-10, 1e+10)</td>\n",
       "            <td style=\"padding-left: 1em; padding-right: 1em; text-align: center; vertical-align: top\">Uniform(1e-10, 1e+10)</td>\n",
       "        </tr>\n",
       "        <tr>\n",
       "            <td style=\"padding-left: 1em; padding-right: 1em; text-align: center; vertical-align: top\"></td>\n",
       "            <td style=\"padding-left: 1em; padding-right: 1em; text-align: center; vertical-align: top\">ZAShift</td>\n",
       "            <td style=\"padding-left: 1em; padding-right: 1em; text-align: center; vertical-align: top\">z</td>\n",
       "            <td style=\"padding-left: 1em; padding-right: 1em; text-align: center; vertical-align: top\">1.5</td>\n",
       "            <td style=\"padding-left: 1em; padding-right: 1em; text-align: center; vertical-align: top\"></td>\n",
       "            <td style=\"padding-left: 1em; padding-right: 1em; text-align: center; vertical-align: top\"></td>\n",
       "        </tr>\n",
       "    </tbody>\n",
       "</table></details>"
      ],
      "text/plain": [
       "Model: ZAShift(PhAbs * PowerLaw) [add]\n",
       "┌─────┬───────────┬───────────┬───────┬────────────────┬───────────────────────┐\n",
       "│ No. │ Component │ Parameter │ Value │     Bound      │         Prior         │\n",
       "├─────┼───────────┼───────────┼───────┼────────────────┼───────────────────────┤\n",
       "│  1  │   PhAbs   │     nH    │   1   │   (0, 1e+06)   │   Uniform(0, 1e+06)   │\n",
       "├─────┼───────────┼───────────┼───────┼────────────────┼───────────────────────┤\n",
       "│  2  │  PowerLaw │   alpha   │  1.01 │    (-3, 10)    │    Uniform(-3, 10)    │\n",
       "├─────┼───────────┼───────────┼───────┼────────────────┼───────────────────────┤\n",
       "│  3  │  PowerLaw │     K     │   1   │ (1e-10, 1e+10) │ Uniform(1e-10, 1e+10) │\n",
       "├─────┼───────────┼───────────┼───────┼────────────────┼───────────────────────┤\n",
       "│     │  ZAShift  │     z     │  1.5  │                │                       │\n",
       "└─────┴───────────┴───────────┴───────┴────────────────┴───────────────────────┘"
      ]
     },
     "execution_count": 7,
     "metadata": {},
     "output_type": "execute_result"
    }
   ],
   "source": [
    "m4 = ZAShift(z=1.5)(PhAbs() * PowerLaw())\n",
    "m4"
   ]
  },
  {
   "cell_type": "markdown",
   "id": "cb5798028051c623",
   "metadata": {},
   "source": [
    "Now let's have a look at the spectral shape of the model we just built,"
   ]
  },
  {
   "cell_type": "code",
   "execution_count": 8,
   "id": "5c474f0b21b5d706",
   "metadata": {
    "ExecuteTime": {
     "end_time": "2024-05-17T16:21:16.835920Z",
     "start_time": "2024-05-17T16:21:16.095269Z"
    }
   },
   "outputs": [
    {
     "data": {
      "image/png": "[encoded data removed]",
      "text/plain": [
       "<Figure size 640x480 with 1 Axes>"
      ]
     },
     "metadata": {},
     "output_type": "display_data"
    }
   ],
   "source": [
    "import matplotlib.pyplot as plt\n",
    "import numpy as np\n",
    "\n",
    "plt.rcParams['axes.formatter.min_exponent'] = 3\n",
    "\n",
    "# Compile the model and get CompiledModel instance\n",
    "compiled_model = m4.compile() \n",
    "\n",
    "# Create a photon energy grid used to evaluate the model\n",
    "photon_egrid = np.linspace(0.3, 15.0, 1000)\n",
    "egrid_mid = 0.5 * (photon_egrid[:-1] + photon_egrid[1:])\n",
    "\n",
    "# Evaluate the model with the default parameters\n",
    "# photon flux N(E) [s^-1 cm^-2 keV^-1]\n",
    "ne = compiled_model.ne(photon_egrid)\n",
    "\n",
    "# You can also evaluate the model with custom\n",
    "# parameters, by specifying either a full set\n",
    "# or a subset of parameters to CompiledModel.ne\n",
    "custom_params = {'PowerLaw.alpha': 2.0}\n",
    "ne2 = compiled_model.ne(photon_egrid, params=custom_params)\n",
    "\n",
    "ne3 = compiled_model.ne(photon_egrid, params={'ZAShift.z': 0.0})\n",
    "\n",
    "# For Fv or vFv plot, we can use ene and eene\n",
    "# ene = compiled_model.ene(photon_egrid)\n",
    "# eene = compiled_model.eene(photon_egrid)\n",
    "\n",
    "plt.step(egrid_mid, ne, label='default')\n",
    "plt.step(egrid_mid, ne2, label='alpha=2.0')\n",
    "plt.step(egrid_mid, ne3, label='z=0.0')\n",
    "plt.legend()\n",
    "plt.title(m4.name)\n",
    "plt.xlabel('Energy [keV]')\n",
    "plt.ylabel('$N_E$ [s$^{-1}$ cm$^{-2}$ keV$^{-1}$]')\n",
    "plt.xscale('log')\n",
    "plt.yscale('log')"
   ]
  },
  {
   "cell_type": "markdown",
   "id": "82f14709b314c791",
   "metadata": {},
   "source": [
    "Great! We have successfully built a model and evaluated its spectral shape.\n",
    "You can build any model you want in a similar way."
   ]
  },
  {
   "cell_type": "markdown",
   "id": "43525baa8162e001",
   "metadata": {},
   "source": [
    "```{admonition} Tip\n",
    ":class: tip\n",
    "\n",
    "The model's $F_\\nu$ and $\\nu F_\\nu$ values can be accessed by [`CompiledModel`](#elisa.models.model.CompiledModel)'s [`ene`](#elisa.models.model.CompiledModel.ene) and\n",
    "[`eene`](#elisa.models.model.CompiledModel.eene) methods.\n",
    "\n",
    "In addition, [`CompiledModel`](#elisa.models.model.CompiledModel) provides tools\n",
    "to calculate [`flux`](#elisa.models.model.CompiledModel.flux), isotropic-equivalent\n",
    "[`luminosity`](#elisa.models.model.CompiledModel.lumin) and [`energy`](#elisa.models.model.CompiledModel.eiso). \n",
    "```"
   ]
  },
  {
   "cell_type": "markdown",
   "id": "e91a0f9600b2c158",
   "metadata": {},
   "source": [
    "### Use Xspec Models\n",
    "\n",
    "``ELISA`` can make use of ``Xspec`` [models](https://heasarc.gsfc.nasa.gov/xanadu/xspec/manual/Models.html). Before using them, you need to follow the {ref}`installation` to install the [``xspex``](https://github.com/wcxve/xspex) package, which provide ``JAX`` wrappers for ``Xspec`` models.\n",
    "\n",
    "Once [``xspex``](https://github.com/wcxve/xspex) package is installed successfully,\n",
    "we can import ``Xspec`` models by"
   ]
  },
  {
   "cell_type": "code",
   "execution_count": 9,
   "id": "28a4b607f5088184",
   "metadata": {
    "ExecuteTime": {
     "end_time": "2024-05-17T16:21:16.838629Z",
     "start_time": "2024-05-17T16:21:16.836868Z"
    }
   },
   "outputs": [],
   "source": [
    "# Note that if you have already run the code\n",
    "#     from elisa.models import *\n",
    "# then the following import statement is redundant\n",
    "\n",
    "from elisa.models import xspec"
   ]
  },
  {
   "cell_type": "markdown",
   "id": "e1e40ea4c410c041",
   "metadata": {},
   "source": [
    "We can build a model combining models from both ``ELISA`` and ``Xspec``.\n",
    "For examle,"
   ]
  },
  {
   "cell_type": "code",
   "execution_count": 10,
   "id": "f9df9e6650fda25b",
   "metadata": {
    "ExecuteTime": {
     "end_time": "2024-05-17T16:21:16.846460Z",
     "start_time": "2024-05-17T16:21:16.841065Z"
    }
   },
   "outputs": [
    {
     "data": {
      "text/html": [
       "<details open><summary><b>Model: TBAbs * apec [add]</b></summary><table frame=\"box\" rules=\"all\">\n",
       "    <thead>\n",
       "        <tr>\n",
       "            <th style=\"padding-left: 1em; padding-right: 1em; text-align: center\">No.</th>\n",
       "            <th style=\"padding-left: 1em; padding-right: 1em; text-align: center\">Component</th>\n",
       "            <th style=\"padding-left: 1em; padding-right: 1em; text-align: center\">Parameter</th>\n",
       "            <th style=\"padding-left: 1em; padding-right: 1em; text-align: center\">Value</th>\n",
       "            <th style=\"padding-left: 1em; padding-right: 1em; text-align: center\">Bound</th>\n",
       "            <th style=\"padding-left: 1em; padding-right: 1em; text-align: center\">Prior</th>\n",
       "        </tr>\n",
       "    </thead>\n",
       "    <tbody>\n",
       "        <tr>\n",
       "            <td style=\"padding-left: 1em; padding-right: 1em; text-align: center; vertical-align: top\">1</td>\n",
       "            <td style=\"padding-left: 1em; padding-right: 1em; text-align: center; vertical-align: top\">TBAbs</td>\n",
       "            <td style=\"padding-left: 1em; padding-right: 1em; text-align: center; vertical-align: top\">nH</td>\n",
       "            <td style=\"padding-left: 1em; padding-right: 1em; text-align: center; vertical-align: top\">1</td>\n",
       "            <td style=\"padding-left: 1em; padding-right: 1em; text-align: center; vertical-align: top\">(0, 1e+06)</td>\n",
       "            <td style=\"padding-left: 1em; padding-right: 1em; text-align: center; vertical-align: top\">Uniform(0, 1e+06)</td>\n",
       "        </tr>\n",
       "        <tr>\n",
       "            <td style=\"padding-left: 1em; padding-right: 1em; text-align: center; vertical-align: top\">2</td>\n",
       "            <td style=\"padding-left: 1em; padding-right: 1em; text-align: center; vertical-align: top\">apec</td>\n",
       "            <td style=\"padding-left: 1em; padding-right: 1em; text-align: center; vertical-align: top\">kT</td>\n",
       "            <td style=\"padding-left: 1em; padding-right: 1em; text-align: center; vertical-align: top\">1</td>\n",
       "            <td style=\"padding-left: 1em; padding-right: 1em; text-align: center; vertical-align: top\">(0.008, 64)</td>\n",
       "            <td style=\"padding-left: 1em; padding-right: 1em; text-align: center; vertical-align: top\">Uniform(0.008, 64)</td>\n",
       "        </tr>\n",
       "        <tr>\n",
       "            <td style=\"padding-left: 1em; padding-right: 1em; text-align: center; vertical-align: top\"></td>\n",
       "            <td style=\"padding-left: 1em; padding-right: 1em; text-align: center; vertical-align: top\">apec</td>\n",
       "            <td style=\"padding-left: 1em; padding-right: 1em; text-align: center; vertical-align: top\">Abundanc</td>\n",
       "            <td style=\"padding-left: 1em; padding-right: 1em; text-align: center; vertical-align: top\">1</td>\n",
       "            <td style=\"padding-left: 1em; padding-right: 1em; text-align: center; vertical-align: top\"></td>\n",
       "            <td style=\"padding-left: 1em; padding-right: 1em; text-align: center; vertical-align: top\"></td>\n",
       "        </tr>\n",
       "        <tr>\n",
       "            <td style=\"padding-left: 1em; padding-right: 1em; text-align: center; vertical-align: top\"></td>\n",
       "            <td style=\"padding-left: 1em; padding-right: 1em; text-align: center; vertical-align: top\">apec</td>\n",
       "            <td style=\"padding-left: 1em; padding-right: 1em; text-align: center; vertical-align: top\">Redshift</td>\n",
       "            <td style=\"padding-left: 1em; padding-right: 1em; text-align: center; vertical-align: top\">0</td>\n",
       "            <td style=\"padding-left: 1em; padding-right: 1em; text-align: center; vertical-align: top\"></td>\n",
       "            <td style=\"padding-left: 1em; padding-right: 1em; text-align: center; vertical-align: top\"></td>\n",
       "        </tr>\n",
       "        <tr>\n",
       "            <td style=\"padding-left: 1em; padding-right: 1em; text-align: center; vertical-align: top\">3</td>\n",
       "            <td style=\"padding-left: 1em; padding-right: 1em; text-align: center; vertical-align: top\">apec</td>\n",
       "            <td style=\"padding-left: 1em; padding-right: 1em; text-align: center; vertical-align: top\">norm</td>\n",
       "            <td style=\"padding-left: 1em; padding-right: 1em; text-align: center; vertical-align: top\">1</td>\n",
       "            <td style=\"padding-left: 1em; padding-right: 1em; text-align: center; vertical-align: top\">(1e-10, 1e+10)</td>\n",
       "            <td style=\"padding-left: 1em; padding-right: 1em; text-align: center; vertical-align: top\">Uniform(1e-10, 1e+10)</td>\n",
       "        </tr>\n",
       "    </tbody>\n",
       "</table></details>"
      ],
      "text/plain": [
       "Model: TBAbs * apec [add]\n",
       "┌─────┬───────────┬───────────┬───────┬────────────────┬───────────────────────┐\n",
       "│ No. │ Component │ Parameter │ Value │     Bound      │         Prior         │\n",
       "├─────┼───────────┼───────────┼───────┼────────────────┼───────────────────────┤\n",
       "│  1  │   TBAbs   │     nH    │   1   │   (0, 1e+06)   │   Uniform(0, 1e+06)   │\n",
       "├─────┼───────────┼───────────┼───────┼────────────────┼───────────────────────┤\n",
       "│  2  │    apec   │     kT    │   1   │  (0.008, 64)   │   Uniform(0.008, 64)  │\n",
       "├─────┼───────────┼───────────┼───────┼────────────────┼───────────────────────┤\n",
       "│     │    apec   │  Abundanc │   1   │                │                       │\n",
       "├─────┼───────────┼───────────┼───────┼────────────────┼───────────────────────┤\n",
       "│     │    apec   │  Redshift │   0   │                │                       │\n",
       "├─────┼───────────┼───────────┼───────┼────────────────┼───────────────────────┤\n",
       "│  3  │    apec   │    norm   │   1   │ (1e-10, 1e+10) │ Uniform(1e-10, 1e+10) │\n",
       "└─────┴───────────┴───────────┴───────┴────────────────┴───────────────────────┘"
      ]
     },
     "execution_count": 10,
     "metadata": {},
     "output_type": "execute_result"
    }
   ],
   "source": [
    "m5 = TBAbs() * xspec.apec()\n",
    "m5"
   ]
  },
  {
   "cell_type": "code",
   "execution_count": 11,
   "id": "28a02d77e1c49aa8",
   "metadata": {
    "ExecuteTime": {
     "end_time": "2024-05-17T16:21:17.184134Z",
     "start_time": "2024-05-17T16:21:16.847135Z"
    }
   },
   "outputs": [
    {
     "name": "stdout",
     "output_type": "stream",
     "text": [
      "Reading APEC data from 3.0.9\n",
      "\n"
     ]
    },
    {
     "data": {
      "image/png": "[encoded data removed]",
      "text/plain": [
       "<Figure size 640x480 with 1 Axes>"
      ]
     },
     "metadata": {},
     "output_type": "display_data"
    }
   ],
   "source": [
    "photon_egrid = np.linspace(0.3, 15.0, 2000)\n",
    "egrid_mid = 0.5 * (photon_egrid[:-1] + photon_egrid[1:])\n",
    "ne = m5.compile().ne(photon_egrid)\n",
    "plt.step(egrid_mid, ne)\n",
    "plt.title(m5.name)\n",
    "plt.xlabel('Energy [keV]')\n",
    "plt.ylabel('$N_E$ [s$^{-1}$ cm$^{-2}$ keV$^{-1}$]')\n",
    "plt.xscale('log')\n",
    "plt.yscale('log')"
   ]
  },
  {
   "cell_type": "code",
   "execution_count": 12,
   "id": "a9dac90837126eeb",
   "metadata": {
    "ExecuteTime": {
     "end_time": "2024-05-17T16:21:17.191941Z",
     "start_time": "2024-05-17T16:21:17.185076Z"
    }
   },
   "outputs": [
    {
     "data": {
      "text/html": [
       "<details open><summary><b>Model: thcomp(PowerLaw) [add]</b></summary><table frame=\"box\" rules=\"all\">\n",
       "    <thead>\n",
       "        <tr>\n",
       "            <th style=\"padding-left: 1em; padding-right: 1em; text-align: center\">No.</th>\n",
       "            <th style=\"padding-left: 1em; padding-right: 1em; text-align: center\">Component</th>\n",
       "            <th style=\"padding-left: 1em; padding-right: 1em; text-align: center\">Parameter</th>\n",
       "            <th style=\"padding-left: 1em; padding-right: 1em; text-align: center\">Value</th>\n",
       "            <th style=\"padding-left: 1em; padding-right: 1em; text-align: center\">Bound</th>\n",
       "            <th style=\"padding-left: 1em; padding-right: 1em; text-align: center\">Prior</th>\n",
       "        </tr>\n",
       "    </thead>\n",
       "    <tbody>\n",
       "        <tr>\n",
       "            <td style=\"padding-left: 1em; padding-right: 1em; text-align: center; vertical-align: top\">1</td>\n",
       "            <td style=\"padding-left: 1em; padding-right: 1em; text-align: center; vertical-align: top\">PowerLaw</td>\n",
       "            <td style=\"padding-left: 1em; padding-right: 1em; text-align: center; vertical-align: top\">alpha</td>\n",
       "            <td style=\"padding-left: 1em; padding-right: 1em; text-align: center; vertical-align: top\">1.01</td>\n",
       "            <td style=\"padding-left: 1em; padding-right: 1em; text-align: center; vertical-align: top\">(-3, 10)</td>\n",
       "            <td style=\"padding-left: 1em; padding-right: 1em; text-align: center; vertical-align: top\">Uniform(-3, 10)</td>\n",
       "        </tr>\n",
       "        <tr>\n",
       "            <td style=\"padding-left: 1em; padding-right: 1em; text-align: center; vertical-align: top\">2</td>\n",
       "            <td style=\"padding-left: 1em; padding-right: 1em; text-align: center; vertical-align: top\">PowerLaw</td>\n",
       "            <td style=\"padding-left: 1em; padding-right: 1em; text-align: center; vertical-align: top\">K</td>\n",
       "            <td style=\"padding-left: 1em; padding-right: 1em; text-align: center; vertical-align: top\">1</td>\n",
       "            <td style=\"padding-left: 1em; padding-right: 1em; text-align: center; vertical-align: top\">(1e-10, 1e+10)</td>\n",
       "            <td style=\"padding-left: 1em; padding-right: 1em; text-align: center; vertical-align: top\">Uniform(1e-10, 1e+10)</td>\n",
       "        </tr>\n",
       "        <tr>\n",
       "            <td style=\"padding-left: 1em; padding-right: 1em; text-align: center; vertical-align: top\">3</td>\n",
       "            <td style=\"padding-left: 1em; padding-right: 1em; text-align: center; vertical-align: top\">thcomp</td>\n",
       "            <td style=\"padding-left: 1em; padding-right: 1em; text-align: center; vertical-align: top\">Gamma_tau</td>\n",
       "            <td style=\"padding-left: 1em; padding-right: 1em; text-align: center; vertical-align: top\">1.7</td>\n",
       "            <td style=\"padding-left: 1em; padding-right: 1em; text-align: center; vertical-align: top\">(1.001, 10)</td>\n",
       "            <td style=\"padding-left: 1em; padding-right: 1em; text-align: center; vertical-align: top\">Uniform(1.001, 10)</td>\n",
       "        </tr>\n",
       "        <tr>\n",
       "            <td style=\"padding-left: 1em; padding-right: 1em; text-align: center; vertical-align: top\">4</td>\n",
       "            <td style=\"padding-left: 1em; padding-right: 1em; text-align: center; vertical-align: top\">thcomp</td>\n",
       "            <td style=\"padding-left: 1em; padding-right: 1em; text-align: center; vertical-align: top\">kT_e</td>\n",
       "            <td style=\"padding-left: 1em; padding-right: 1em; text-align: center; vertical-align: top\">50</td>\n",
       "            <td style=\"padding-left: 1em; padding-right: 1em; text-align: center; vertical-align: top\">(0.5, 150)</td>\n",
       "            <td style=\"padding-left: 1em; padding-right: 1em; text-align: center; vertical-align: top\">Uniform(0.5, 150)</td>\n",
       "        </tr>\n",
       "        <tr>\n",
       "            <td style=\"padding-left: 1em; padding-right: 1em; text-align: center; vertical-align: top\">5</td>\n",
       "            <td style=\"padding-left: 1em; padding-right: 1em; text-align: center; vertical-align: top\">thcomp</td>\n",
       "            <td style=\"padding-left: 1em; padding-right: 1em; text-align: center; vertical-align: top\">cov_frac</td>\n",
       "            <td style=\"padding-left: 1em; padding-right: 1em; text-align: center; vertical-align: top\">0.999</td>\n",
       "            <td style=\"padding-left: 1em; padding-right: 1em; text-align: center; vertical-align: top\">(0, 1)</td>\n",
       "            <td style=\"padding-left: 1em; padding-right: 1em; text-align: center; vertical-align: top\">Uniform(0, 1)</td>\n",
       "        </tr>\n",
       "        <tr>\n",
       "            <td style=\"padding-left: 1em; padding-right: 1em; text-align: center; vertical-align: top\"></td>\n",
       "            <td style=\"padding-left: 1em; padding-right: 1em; text-align: center; vertical-align: top\">thcomp</td>\n",
       "            <td style=\"padding-left: 1em; padding-right: 1em; text-align: center; vertical-align: top\">z</td>\n",
       "            <td style=\"padding-left: 1em; padding-right: 1em; text-align: center; vertical-align: top\">0.005</td>\n",
       "            <td style=\"padding-left: 1em; padding-right: 1em; text-align: center; vertical-align: top\"></td>\n",
       "            <td style=\"padding-left: 1em; padding-right: 1em; text-align: center; vertical-align: top\"></td>\n",
       "        </tr>\n",
       "    </tbody>\n",
       "</table></details>"
      ],
      "text/plain": [
       "Model: thcomp(PowerLaw) [add]\n",
       "┌─────┬───────────┬───────────┬───────┬────────────────┬───────────────────────┐\n",
       "│ No. │ Component │ Parameter │ Value │     Bound      │         Prior         │\n",
       "├─────┼───────────┼───────────┼───────┼────────────────┼───────────────────────┤\n",
       "│  1  │  PowerLaw │   alpha   │  1.01 │    (-3, 10)    │    Uniform(-3, 10)    │\n",
       "├─────┼───────────┼───────────┼───────┼────────────────┼───────────────────────┤\n",
       "│  2  │  PowerLaw │     K     │   1   │ (1e-10, 1e+10) │ Uniform(1e-10, 1e+10) │\n",
       "├─────┼───────────┼───────────┼───────┼────────────────┼───────────────────────┤\n",
       "│  3  │   thcomp  │ Gamma_tau │  1.7  │  (1.001, 10)   │   Uniform(1.001, 10)  │\n",
       "├─────┼───────────┼───────────┼───────┼────────────────┼───────────────────────┤\n",
       "│  4  │   thcomp  │    kT_e   │   50  │   (0.5, 150)   │   Uniform(0.5, 150)   │\n",
       "├─────┼───────────┼───────────┼───────┼────────────────┼───────────────────────┤\n",
       "│  5  │   thcomp  │  cov_frac │ 0.999 │     (0, 1)     │     Uniform(0, 1)     │\n",
       "├─────┼───────────┼───────────┼───────┼────────────────┼───────────────────────┤\n",
       "│     │   thcomp  │     z     │ 0.005 │                │                       │\n",
       "└─────┴───────────┴───────────┴───────┴────────────────┴───────────────────────┘"
      ]
     },
     "execution_count": 12,
     "metadata": {},
     "output_type": "execute_result"
    }
   ],
   "source": [
    "m6 = xspec.thcomp()(PowerLaw())\n",
    "m6"
   ]
  },
  {
   "cell_type": "code",
   "execution_count": 13,
   "id": "480a933843fbe537",
   "metadata": {
    "ExecuteTime": {
     "end_time": "2024-05-17T16:21:17.406737Z",
     "start_time": "2024-05-17T16:21:17.192697Z"
    }
   },
   "outputs": [
    {
     "data": {
      "image/png": "[encoded data removed]",
      "text/plain": [
       "<Figure size 640x480 with 1 Axes>"
      ]
     },
     "metadata": {},
     "output_type": "display_data"
    }
   ],
   "source": [
    "photon_egrid = np.linspace(60.0, 90.0, 1000)\n",
    "egrid_mid = 0.5 * (photon_egrid[:-1] + photon_egrid[1:])\n",
    "ne = m6.compile().ne(photon_egrid)\n",
    "plt.step(egrid_mid, ne)\n",
    "plt.title(m6.name)\n",
    "plt.xlabel('Energy [keV]')\n",
    "plt.ylabel('$N_E$ [s$^{-1}$ cm$^{-2}$ keV$^{-1}$]')\n",
    "plt.xscale('log')\n",
    "plt.yscale('log')"
   ]
  },
  {
   "cell_type": "markdown",
   "id": "2b6a7c2017ad105d",
   "metadata": {},
   "source": [
    "```{admonition} Warning\n",
    ":class: warning\n",
    "\n",
    "Note the [issue](https://github.com/wcxve/elisa/issues/46) that parallel\n",
    "computation of certain ``Xspec`` models using JAX will fail.\n",
    "Current solution to this is do the computation in sequential.\n",
    "```"
   ]
  },
  {
   "cell_type": "markdown",
   "id": "e3605df48af439ca",
   "metadata": {},
   "source": [
    "### Use Custom Model\n",
    "\n",
    "You can also include custom model when building models.\n",
    "See {ref}`custom-model` tutorial for details on how to make a custom model."
   ]
  },
  {
   "cell_type": "markdown",
   "id": "bcb179efb191cc29",
   "metadata": {},
   "source": [
    "### Conclusion\n",
    "\n",
    "By leveraging the model interface of ``ELISA``, you can construct arbitrarily\n",
    "complex spectral models to suit your needs.\n",
    "\n",
    "In the next section, we will discuss the parameter configuration for the model."
   ]
  },
  {
   "cell_type": "markdown",
   "id": "2660ce9fd6e1e52",
   "metadata": {},
   "source": [
    "(parameter-interface)=\n",
    "## The Parameter Interface\n",
    "\n",
    "``ELISA`` provide an intuitive way to configure the parameters of the model\n",
    "components.\n",
    "\n",
    "As we have seen in the previous section, the model components have parameters\n",
    "associated with them. These parameters have default values, bounds, and prior\n",
    "distributions defined. Indeed, these parameters are instances of the\n",
    "[`Parameter`](#elisa.models.parameter.Parameter) class."
   ]
  },
  {
   "cell_type": "markdown",
   "id": "2f53e57d9c30eab0",
   "metadata": {},
   "source": [
    "### The Uniform Parameter\n",
    "\n",
    "When creating a model without specifying the configuration of parameters,\n",
    "[`UniformParameter`](#elisa.models.parameter.UniformParameter) instances are \n",
    "automatically created and assigned to model components.\n",
    "\n",
    "For example, when we initialize a [`PowerLaw`](#elisa.models.add.PowerLaw)\n",
    "simply by ``PowerLaw()``, information is read from the `PowerLaw._config`\n",
    "attribute and passed to the [`UniformParameter`](#elisa.models.parameter.UniformParameter)\n",
    "to create the parameter objects for the power-law model. The information includes\n",
    "the default values, bounds, and flags to indicate whether the parameters are\n",
    "parameterized in logarithmic space and whether to be fixed. This is also the\n",
    "case for other model components."
   ]
  },
  {
   "cell_type": "code",
   "execution_count": 14,
   "id": "5fa1d3d06460f746",
   "metadata": {
    "ExecuteTime": {
     "end_time": "2024-05-17T16:21:17.409884Z",
     "start_time": "2024-05-17T16:21:17.407675Z"
    }
   },
   "outputs": [
    {
     "name": "stdout",
     "output_type": "stream",
     "text": [
      "ParamConfig(name='alpha', latex='\\\\alpha', unit='', default=1.01, min=-3.0, max=10.0, log=False, fixed=False)\n",
      "\n",
      "ParamConfig(name='K', latex='K', unit='cm^-2 s^-1 keV^-1', default=1.0, min=1e-10, max=10000000000.0, log=False, fixed=False)\n",
      "\n"
     ]
    }
   ],
   "source": [
    "for i in PowerLaw._config:\n",
    "    print(i, end='\\n\\n')"
   ]
  },
  {
   "cell_type": "code",
   "execution_count": 15,
   "id": "d96daec7b156be83",
   "metadata": {
    "ExecuteTime": {
     "end_time": "2024-05-17T16:21:17.415101Z",
     "start_time": "2024-05-17T16:21:17.410858Z"
    }
   },
   "outputs": [
    {
     "data": {
      "text/html": [
       "<details open><summary><b>Model: PowerLaw [add]</b></summary><table frame=\"box\" rules=\"all\">\n",
       "    <thead>\n",
       "        <tr>\n",
       "            <th style=\"padding-left: 1em; padding-right: 1em; text-align: center\">No.</th>\n",
       "            <th style=\"padding-left: 1em; padding-right: 1em; text-align: center\">Component</th>\n",
       "            <th style=\"padding-left: 1em; padding-right: 1em; text-align: center\">Parameter</th>\n",
       "            <th style=\"padding-left: 1em; padding-right: 1em; text-align: center\">Value</th>\n",
       "            <th style=\"padding-left: 1em; padding-right: 1em; text-align: center\">Bound</th>\n",
       "            <th style=\"padding-left: 1em; padding-right: 1em; text-align: center\">Prior</th>\n",
       "        </tr>\n",
       "    </thead>\n",
       "    <tbody>\n",
       "        <tr>\n",
       "            <td style=\"padding-left: 1em; padding-right: 1em; text-align: center; vertical-align: top\">1</td>\n",
       "            <td style=\"padding-left: 1em; padding-right: 1em; text-align: center; vertical-align: top\">PowerLaw</td>\n",
       "            <td style=\"padding-left: 1em; padding-right: 1em; text-align: center; vertical-align: top\">alpha</td>\n",
       "            <td style=\"padding-left: 1em; padding-right: 1em; text-align: center; vertical-align: top\">1.01</td>\n",
       "            <td style=\"padding-left: 1em; padding-right: 1em; text-align: center; vertical-align: top\">(-3, 10)</td>\n",
       "            <td style=\"padding-left: 1em; padding-right: 1em; text-align: center; vertical-align: top\">Uniform(-3, 10)</td>\n",
       "        </tr>\n",
       "        <tr>\n",
       "            <td style=\"padding-left: 1em; padding-right: 1em; text-align: center; vertical-align: top\">2</td>\n",
       "            <td style=\"padding-left: 1em; padding-right: 1em; text-align: center; vertical-align: top\">PowerLaw</td>\n",
       "            <td style=\"padding-left: 1em; padding-right: 1em; text-align: center; vertical-align: top\">K</td>\n",
       "            <td style=\"padding-left: 1em; padding-right: 1em; text-align: center; vertical-align: top\">1</td>\n",
       "            <td style=\"padding-left: 1em; padding-right: 1em; text-align: center; vertical-align: top\">(1e-10, 1e+10)</td>\n",
       "            <td style=\"padding-left: 1em; padding-right: 1em; text-align: center; vertical-align: top\">Uniform(1e-10, 1e+10)</td>\n",
       "        </tr>\n",
       "    </tbody>\n",
       "</table></details>"
      ],
      "text/plain": [
       "Model: PowerLaw [add]\n",
       "┌─────┬───────────┬───────────┬───────┬────────────────┬───────────────────────┐\n",
       "│ No. │ Component │ Parameter │ Value │     Bound      │         Prior         │\n",
       "├─────┼───────────┼───────────┼───────┼────────────────┼───────────────────────┤\n",
       "│  1  │  PowerLaw │   alpha   │  1.01 │    (-3, 10)    │    Uniform(-3, 10)    │\n",
       "├─────┼───────────┼───────────┼───────┼────────────────┼───────────────────────┤\n",
       "│  2  │  PowerLaw │     K     │   1   │ (1e-10, 1e+10) │ Uniform(1e-10, 1e+10) │\n",
       "└─────┴───────────┴───────────┴───────┴────────────────┴───────────────────────┘"
      ]
     },
     "execution_count": 15,
     "metadata": {},
     "output_type": "execute_result"
    }
   ],
   "source": [
    "PowerLaw()"
   ]
  },
  {
   "cell_type": "markdown",
   "id": "a9d15305ec8c75f8",
   "metadata": {},
   "source": [
    "We can see that the configuration of parameters matches the information printed\n",
    "above.\n",
    "\n",
    "Usually, it is fine to use the default configuration. However, you can customize\n",
    "the parameters for your need. For example, you can create [`UniformParameter`](#elisa.models.parameter.Parameter) instances with custom default values and bounds, and then\n",
    "passed to the model constructor:"
   ]
  },
  {
   "cell_type": "code",
   "execution_count": 16,
   "id": "1cc7a20a39b5570e",
   "metadata": {
    "ExecuteTime": {
     "end_time": "2024-05-17T16:21:17.441181Z",
     "start_time": "2024-05-17T16:21:17.415975Z"
    }
   },
   "outputs": [
    {
     "data": {
      "text/html": [
       "<details open><summary><b>Model: PowerLaw [add]</b></summary><table frame=\"box\" rules=\"all\">\n",
       "    <thead>\n",
       "        <tr>\n",
       "            <th style=\"padding-left: 1em; padding-right: 1em; text-align: center\">No.</th>\n",
       "            <th style=\"padding-left: 1em; padding-right: 1em; text-align: center\">Component</th>\n",
       "            <th style=\"padding-left: 1em; padding-right: 1em; text-align: center\">Parameter</th>\n",
       "            <th style=\"padding-left: 1em; padding-right: 1em; text-align: center\">Value</th>\n",
       "            <th style=\"padding-left: 1em; padding-right: 1em; text-align: center\">Bound</th>\n",
       "            <th style=\"padding-left: 1em; padding-right: 1em; text-align: center\">Prior</th>\n",
       "        </tr>\n",
       "    </thead>\n",
       "    <tbody>\n",
       "        <tr>\n",
       "            <td style=\"padding-left: 1em; padding-right: 1em; text-align: center; vertical-align: top\">1</td>\n",
       "            <td style=\"padding-left: 1em; padding-right: 1em; text-align: center; vertical-align: top\">PowerLaw</td>\n",
       "            <td style=\"padding-left: 1em; padding-right: 1em; text-align: center; vertical-align: top\">alpha</td>\n",
       "            <td style=\"padding-left: 1em; padding-right: 1em; text-align: center; vertical-align: top\">2</td>\n",
       "            <td style=\"padding-left: 1em; padding-right: 1em; text-align: center; vertical-align: top\">(0, 5)</td>\n",
       "            <td style=\"padding-left: 1em; padding-right: 1em; text-align: center; vertical-align: top\">Uniform(0, 5)</td>\n",
       "        </tr>\n",
       "        <tr>\n",
       "            <td style=\"padding-left: 1em; padding-right: 1em; text-align: center; vertical-align: top\">2</td>\n",
       "            <td style=\"padding-left: 1em; padding-right: 1em; text-align: center; vertical-align: top\">PowerLaw</td>\n",
       "            <td style=\"padding-left: 1em; padding-right: 1em; text-align: center; vertical-align: top\">K</td>\n",
       "            <td style=\"padding-left: 1em; padding-right: 1em; text-align: center; vertical-align: top\">10</td>\n",
       "            <td style=\"padding-left: 1em; padding-right: 1em; text-align: center; vertical-align: top\">(1e-05, 1e+05)</td>\n",
       "            <td style=\"padding-left: 1em; padding-right: 1em; text-align: center; vertical-align: top\">LogUniform(1e-05, 1e+05)</td>\n",
       "        </tr>\n",
       "    </tbody>\n",
       "</table></details>"
      ],
      "text/plain": [
       "Model: PowerLaw [add]\n",
       "┌─────┬───────────┬───────────┬───────┬────────────────┬──────────────────────────┐\n",
       "│ No. │ Component │ Parameter │ Value │     Bound      │          Prior           │\n",
       "├─────┼───────────┼───────────┼───────┼────────────────┼──────────────────────────┤\n",
       "│  1  │  PowerLaw │   alpha   │   2   │     (0, 5)     │      Uniform(0, 5)       │\n",
       "├─────┼───────────┼───────────┼───────┼────────────────┼──────────────────────────┤\n",
       "│  2  │  PowerLaw │     K     │   10  │ (1e-05, 1e+05) │ LogUniform(1e-05, 1e+05) │\n",
       "└─────┴───────────┴───────────┴───────┴────────────────┴──────────────────────────┘"
      ]
     },
     "execution_count": 16,
     "metadata": {},
     "output_type": "execute_result"
    }
   ],
   "source": [
    "from elisa import UniformParameter\n",
    "\n",
    "alpha = UniformParameter(\n",
    "    name='alpha',\n",
    "    default=2.0,\n",
    "    min=0.0,\n",
    "    max=5.0,\n",
    "    log=False,\n",
    "    fixed=False\n",
    ")\n",
    "\n",
    "K = UniformParameter(\n",
    "    name='K',\n",
    "    default=10,\n",
    "    min=1e-5,\n",
    "    max=1e5,\n",
    "    log=True,\n",
    "    fixed=False\n",
    ")\n",
    "\n",
    "PowerLaw(alpha=alpha, K=K)"
   ]
  },
  {
   "cell_type": "markdown",
   "id": "b357b578dd00b111",
   "metadata": {},
   "source": [
    "``ELISA`` also provides several convenient ways to set up the [`UniformParameter`](#elisa.models.parameter.UniformParameter) for model components, without the need to create the [`UniformParameter`](#elisa.models.parameter.UniformParameter) instances explicitly: "
   ]
  },
  {
   "cell_type": "markdown",
   "id": "4ba4da5163630177",
   "metadata": {},
   "source": [
    "Passing size one float sequence to the model constructor will create a [`UniformParameter`](#elisa.models.parameter.UniformParameter) with the float as the default value,"
   ]
  },
  {
   "cell_type": "code",
   "execution_count": 17,
   "id": "1617b0bd7eaa7f86",
   "metadata": {
    "ExecuteTime": {
     "end_time": "2024-05-17T16:21:17.446887Z",
     "start_time": "2024-05-17T16:21:17.442317Z"
    }
   },
   "outputs": [
    {
     "data": {
      "text/html": [
       "<details open><summary><b>Model: PowerLaw [add]</b></summary><table frame=\"box\" rules=\"all\">\n",
       "    <thead>\n",
       "        <tr>\n",
       "            <th style=\"padding-left: 1em; padding-right: 1em; text-align: center\">No.</th>\n",
       "            <th style=\"padding-left: 1em; padding-right: 1em; text-align: center\">Component</th>\n",
       "            <th style=\"padding-left: 1em; padding-right: 1em; text-align: center\">Parameter</th>\n",
       "            <th style=\"padding-left: 1em; padding-right: 1em; text-align: center\">Value</th>\n",
       "            <th style=\"padding-left: 1em; padding-right: 1em; text-align: center\">Bound</th>\n",
       "            <th style=\"padding-left: 1em; padding-right: 1em; text-align: center\">Prior</th>\n",
       "        </tr>\n",
       "    </thead>\n",
       "    <tbody>\n",
       "        <tr>\n",
       "            <td style=\"padding-left: 1em; padding-right: 1em; text-align: center; vertical-align: top\">1</td>\n",
       "            <td style=\"padding-left: 1em; padding-right: 1em; text-align: center; vertical-align: top\">PowerLaw</td>\n",
       "            <td style=\"padding-left: 1em; padding-right: 1em; text-align: center; vertical-align: top\">alpha</td>\n",
       "            <td style=\"padding-left: 1em; padding-right: 1em; text-align: center; vertical-align: top\">1.7</td>\n",
       "            <td style=\"padding-left: 1em; padding-right: 1em; text-align: center; vertical-align: top\">(-3, 10)</td>\n",
       "            <td style=\"padding-left: 1em; padding-right: 1em; text-align: center; vertical-align: top\">Uniform(-3, 10)</td>\n",
       "        </tr>\n",
       "        <tr>\n",
       "            <td style=\"padding-left: 1em; padding-right: 1em; text-align: center; vertical-align: top\">2</td>\n",
       "            <td style=\"padding-left: 1em; padding-right: 1em; text-align: center; vertical-align: top\">PowerLaw</td>\n",
       "            <td style=\"padding-left: 1em; padding-right: 1em; text-align: center; vertical-align: top\">K</td>\n",
       "            <td style=\"padding-left: 1em; padding-right: 1em; text-align: center; vertical-align: top\">1</td>\n",
       "            <td style=\"padding-left: 1em; padding-right: 1em; text-align: center; vertical-align: top\">(1e-10, 1e+10)</td>\n",
       "            <td style=\"padding-left: 1em; padding-right: 1em; text-align: center; vertical-align: top\">Uniform(1e-10, 1e+10)</td>\n",
       "        </tr>\n",
       "    </tbody>\n",
       "</table></details>"
      ],
      "text/plain": [
       "Model: PowerLaw [add]\n",
       "┌─────┬───────────┬───────────┬───────┬────────────────┬───────────────────────┐\n",
       "│ No. │ Component │ Parameter │ Value │     Bound      │         Prior         │\n",
       "├─────┼───────────┼───────────┼───────┼────────────────┼───────────────────────┤\n",
       "│  1  │  PowerLaw │   alpha   │  1.7  │    (-3, 10)    │    Uniform(-3, 10)    │\n",
       "├─────┼───────────┼───────────┼───────┼────────────────┼───────────────────────┤\n",
       "│  2  │  PowerLaw │     K     │   1   │ (1e-10, 1e+10) │ Uniform(1e-10, 1e+10) │\n",
       "└─────┴───────────┴───────────┴───────┴────────────────┴───────────────────────┘"
      ]
     },
     "execution_count": 17,
     "metadata": {},
     "output_type": "execute_result"
    }
   ],
   "source": [
    "PowerLaw(alpha=[1.7])"
   ]
  },
  {
   "cell_type": "markdown",
   "id": "a81e673fd8330ebf",
   "metadata": {},
   "source": [
    "Passing three-sequence will create a [`UniformParameter`](#elisa.models.parameter.UniformParameter) with the first element as the default value, the second and third elements as the minimum and maximum values,"
   ]
  },
  {
   "cell_type": "code",
   "execution_count": 18,
   "id": "243183e6be9ca777",
   "metadata": {
    "ExecuteTime": {
     "end_time": "2024-05-17T16:21:17.452392Z",
     "start_time": "2024-05-17T16:21:17.447764Z"
    }
   },
   "outputs": [
    {
     "data": {
      "text/html": [
       "<details open><summary><b>Model: Blackbody [add]</b></summary><table frame=\"box\" rules=\"all\">\n",
       "    <thead>\n",
       "        <tr>\n",
       "            <th style=\"padding-left: 1em; padding-right: 1em; text-align: center\">No.</th>\n",
       "            <th style=\"padding-left: 1em; padding-right: 1em; text-align: center\">Component</th>\n",
       "            <th style=\"padding-left: 1em; padding-right: 1em; text-align: center\">Parameter</th>\n",
       "            <th style=\"padding-left: 1em; padding-right: 1em; text-align: center\">Value</th>\n",
       "            <th style=\"padding-left: 1em; padding-right: 1em; text-align: center\">Bound</th>\n",
       "            <th style=\"padding-left: 1em; padding-right: 1em; text-align: center\">Prior</th>\n",
       "        </tr>\n",
       "    </thead>\n",
       "    <tbody>\n",
       "        <tr>\n",
       "            <td style=\"padding-left: 1em; padding-right: 1em; text-align: center; vertical-align: top\">1</td>\n",
       "            <td style=\"padding-left: 1em; padding-right: 1em; text-align: center; vertical-align: top\">Blackbody</td>\n",
       "            <td style=\"padding-left: 1em; padding-right: 1em; text-align: center; vertical-align: top\">kT</td>\n",
       "            <td style=\"padding-left: 1em; padding-right: 1em; text-align: center; vertical-align: top\">10</td>\n",
       "            <td style=\"padding-left: 1em; padding-right: 1em; text-align: center; vertical-align: top\">(2, 30)</td>\n",
       "            <td style=\"padding-left: 1em; padding-right: 1em; text-align: center; vertical-align: top\">Uniform(2, 30)</td>\n",
       "        </tr>\n",
       "        <tr>\n",
       "            <td style=\"padding-left: 1em; padding-right: 1em; text-align: center; vertical-align: top\">2</td>\n",
       "            <td style=\"padding-left: 1em; padding-right: 1em; text-align: center; vertical-align: top\">Blackbody</td>\n",
       "            <td style=\"padding-left: 1em; padding-right: 1em; text-align: center; vertical-align: top\">K</td>\n",
       "            <td style=\"padding-left: 1em; padding-right: 1em; text-align: center; vertical-align: top\">1.1</td>\n",
       "            <td style=\"padding-left: 1em; padding-right: 1em; text-align: center; vertical-align: top\">(1e-05, 1e+04)</td>\n",
       "            <td style=\"padding-left: 1em; padding-right: 1em; text-align: center; vertical-align: top\">Uniform(1e-05, 1e+04)</td>\n",
       "        </tr>\n",
       "    </tbody>\n",
       "</table></details>"
      ],
      "text/plain": [
       "Model: Blackbody [add]\n",
       "┌─────┬───────────┬───────────┬───────┬────────────────┬───────────────────────┐\n",
       "│ No. │ Component │ Parameter │ Value │     Bound      │         Prior         │\n",
       "├─────┼───────────┼───────────┼───────┼────────────────┼───────────────────────┤\n",
       "│  1  │ Blackbody │     kT    │   10  │    (2, 30)     │     Uniform(2, 30)    │\n",
       "├─────┼───────────┼───────────┼───────┼────────────────┼───────────────────────┤\n",
       "│  2  │ Blackbody │     K     │  1.1  │ (1e-05, 1e+04) │ Uniform(1e-05, 1e+04) │\n",
       "└─────┴───────────┴───────────┴───────┴────────────────┴───────────────────────┘"
      ]
     },
     "execution_count": 18,
     "metadata": {},
     "output_type": "execute_result"
    }
   ],
   "source": [
    "Blackbody(kT=(10, 2, 30), K=[1.1, 1e-5, 1e4])"
   ]
  },
  {
   "cell_type": "markdown",
   "id": "b46e50c50052cf8f",
   "metadata": {},
   "source": [
    "Passing a four-sequence will create a [`UniformParameter`](#elisa.models.parameter.UniformParameter) with the first three elements as the default, minimum and maximum values, and the fourth element as the flag to indicate whether the parameter is logarithmically parameterized,"
   ]
  },
  {
   "cell_type": "code",
   "execution_count": 19,
   "id": "9b0b06e495ae7559",
   "metadata": {
    "ExecuteTime": {
     "end_time": "2024-05-17T16:21:17.456953Z",
     "start_time": "2024-05-17T16:21:17.453215Z"
    }
   },
   "outputs": [
    {
     "data": {
      "text/html": [
       "<details open><summary><b>Model: TBAbs [mul]</b></summary><table frame=\"box\" rules=\"all\">\n",
       "    <thead>\n",
       "        <tr>\n",
       "            <th style=\"padding-left: 1em; padding-right: 1em; text-align: center\">No.</th>\n",
       "            <th style=\"padding-left: 1em; padding-right: 1em; text-align: center\">Component</th>\n",
       "            <th style=\"padding-left: 1em; padding-right: 1em; text-align: center\">Parameter</th>\n",
       "            <th style=\"padding-left: 1em; padding-right: 1em; text-align: center\">Value</th>\n",
       "            <th style=\"padding-left: 1em; padding-right: 1em; text-align: center\">Bound</th>\n",
       "            <th style=\"padding-left: 1em; padding-right: 1em; text-align: center\">Prior</th>\n",
       "        </tr>\n",
       "    </thead>\n",
       "    <tbody>\n",
       "        <tr>\n",
       "            <td style=\"padding-left: 1em; padding-right: 1em; text-align: center; vertical-align: top\">1</td>\n",
       "            <td style=\"padding-left: 1em; padding-right: 1em; text-align: center; vertical-align: top\">TBAbs</td>\n",
       "            <td style=\"padding-left: 1em; padding-right: 1em; text-align: center; vertical-align: top\">nH</td>\n",
       "            <td style=\"padding-left: 1em; padding-right: 1em; text-align: center; vertical-align: top\">3</td>\n",
       "            <td style=\"padding-left: 1em; padding-right: 1em; text-align: center; vertical-align: top\">(0.01, 10)</td>\n",
       "            <td style=\"padding-left: 1em; padding-right: 1em; text-align: center; vertical-align: top\">LogUniform(0.01, 10)</td>\n",
       "        </tr>\n",
       "    </tbody>\n",
       "</table></details>"
      ],
      "text/plain": [
       "Model: TBAbs [mul]\n",
       "┌─────┬───────────┬───────────┬───────┬────────────┬──────────────────────┐\n",
       "│ No. │ Component │ Parameter │ Value │   Bound    │        Prior         │\n",
       "├─────┼───────────┼───────────┼───────┼────────────┼──────────────────────┤\n",
       "│  1  │   TBAbs   │     nH    │   3   │ (0.01, 10) │ LogUniform(0.01, 10) │\n",
       "└─────┴───────────┴───────────┴───────┴────────────┴──────────────────────┘"
      ]
     },
     "execution_count": 19,
     "metadata": {},
     "output_type": "execute_result"
    }
   ],
   "source": [
    "TBAbs(nH=[3.0, 0.01, 10.0, True])"
   ]
  },
  {
   "cell_type": "markdown",
   "id": "ab131bed547edf97",
   "metadata": {},
   "source": [
    "And finally, passing a float will create a UniformParameter with the float as the default value, and the parameter is fixed to this value,"
   ]
  },
  {
   "cell_type": "code",
   "execution_count": 20,
   "id": "69552b65d1692a62",
   "metadata": {
    "ExecuteTime": {
     "end_time": "2024-05-17T16:21:17.461735Z",
     "start_time": "2024-05-17T16:21:17.457768Z"
    }
   },
   "outputs": [
    {
     "data": {
      "text/html": [
       "<details open><summary><b>Model: ZAShift [conv]</b></summary><table frame=\"box\" rules=\"all\">\n",
       "    <thead>\n",
       "        <tr>\n",
       "            <th style=\"padding-left: 1em; padding-right: 1em; text-align: center\">No.</th>\n",
       "            <th style=\"padding-left: 1em; padding-right: 1em; text-align: center\">Component</th>\n",
       "            <th style=\"padding-left: 1em; padding-right: 1em; text-align: center\">Parameter</th>\n",
       "            <th style=\"padding-left: 1em; padding-right: 1em; text-align: center\">Value</th>\n",
       "            <th style=\"padding-left: 1em; padding-right: 1em; text-align: center\">Bound</th>\n",
       "            <th style=\"padding-left: 1em; padding-right: 1em; text-align: center\">Prior</th>\n",
       "        </tr>\n",
       "    </thead>\n",
       "    <tbody>\n",
       "        <tr>\n",
       "            <td style=\"padding-left: 1em; padding-right: 1em; text-align: center; vertical-align: top\"></td>\n",
       "            <td style=\"padding-left: 1em; padding-right: 1em; text-align: center; vertical-align: top\">ZAShift</td>\n",
       "            <td style=\"padding-left: 1em; padding-right: 1em; text-align: center; vertical-align: top\">z</td>\n",
       "            <td style=\"padding-left: 1em; padding-right: 1em; text-align: center; vertical-align: top\">4.2</td>\n",
       "            <td style=\"padding-left: 1em; padding-right: 1em; text-align: center; vertical-align: top\"></td>\n",
       "            <td style=\"padding-left: 1em; padding-right: 1em; text-align: center; vertical-align: top\"></td>\n",
       "        </tr>\n",
       "    </tbody>\n",
       "</table></details>"
      ],
      "text/plain": [
       "Model: ZAShift [conv]\n",
       "┌─────┬───────────┬───────────┬───────┬───────┬───────┐\n",
       "│ No. │ Component │ Parameter │ Value │ Bound │ Prior │\n",
       "├─────┼───────────┼───────────┼───────┼───────┼───────┤\n",
       "│     │  ZAShift  │     z     │  4.2  │       │       │\n",
       "└─────┴───────────┴───────────┴───────┴───────┴───────┘"
      ]
     },
     "execution_count": 20,
     "metadata": {},
     "output_type": "execute_result"
    }
   ],
   "source": [
    "ZAShift(z=4.2)"
   ]
  },
  {
   "cell_type": "markdown",
   "id": "3a6af3be1102e28c",
   "metadata": {},
   "source": [
    "### Other Parameters\n",
    "\n",
    "In addition to the [`UniformParameter`](#elisa.models.parameter.UniformParameter), ``ELISA`` provides three other types of parameters."
   ]
  },
  {
   "cell_type": "markdown",
   "id": "a2d2aaaa88b7a0ca",
   "metadata": {},
   "source": [
    "#### DistParameter\n",
    "\n",
    "You can create a [`DistParameter`](#elisa.models.parameter.DistParameter) instance\n",
    "by passing a ``NumPyro``'s [probability distribution](https://num.pyro.ai/en/stable/distributions.html)\n",
    "instance. This is useful when you want to use non-uniform priors for parameters\n",
    "in Bayesian analysis. For example, we can create a multiplicative [``Constant``](#elisa.models.mul.Constant) component with a Gaussian prior in $\\mathbb{R^+}$."
   ]
  },
  {
   "cell_type": "code",
   "execution_count": 21,
   "id": "7f2ccd58c9f8d2d0",
   "metadata": {
    "ExecuteTime": {
     "end_time": "2024-05-17T16:21:17.466233Z",
     "start_time": "2024-05-17T16:21:17.462447Z"
    }
   },
   "outputs": [
    {
     "data": {
      "text/html": [
       "<details open><summary><b>Model: Constant [mul]</b></summary><table frame=\"box\" rules=\"all\">\n",
       "    <thead>\n",
       "        <tr>\n",
       "            <th style=\"padding-left: 1em; padding-right: 1em; text-align: center\">No.</th>\n",
       "            <th style=\"padding-left: 1em; padding-right: 1em; text-align: center\">Component</th>\n",
       "            <th style=\"padding-left: 1em; padding-right: 1em; text-align: center\">Parameter</th>\n",
       "            <th style=\"padding-left: 1em; padding-right: 1em; text-align: center\">Value</th>\n",
       "            <th style=\"padding-left: 1em; padding-right: 1em; text-align: center\">Bound</th>\n",
       "            <th style=\"padding-left: 1em; padding-right: 1em; text-align: center\">Prior</th>\n",
       "        </tr>\n",
       "    </thead>\n",
       "    <tbody>\n",
       "        <tr>\n",
       "            <td style=\"padding-left: 1em; padding-right: 1em; text-align: center; vertical-align: top\">1</td>\n",
       "            <td style=\"padding-left: 1em; padding-right: 1em; text-align: center; vertical-align: top\">Constant</td>\n",
       "            <td style=\"padding-left: 1em; padding-right: 1em; text-align: center; vertical-align: top\">f</td>\n",
       "            <td style=\"padding-left: 1em; padding-right: 1em; text-align: center; vertical-align: top\">1</td>\n",
       "            <td style=\"padding-left: 1em; padding-right: 1em; text-align: center; vertical-align: top\">GreaterThan(lower_bound=0.0)</td>\n",
       "            <td style=\"padding-left: 1em; padding-right: 1em; text-align: center; vertical-align: top\">LeftTruncatedDistribution(low=0)</td>\n",
       "        </tr>\n",
       "    </tbody>\n",
       "</table></details>"
      ],
      "text/plain": [
       "Model: Constant [mul]\n",
       "┌─────┬───────────┬───────────┬───────┬──────────────────────────────┬──────────────────────────────────┐\n",
       "│ No. │ Component │ Parameter │ Value │            Bound             │              Prior               │\n",
       "├─────┼───────────┼───────────┼───────┼──────────────────────────────┼──────────────────────────────────┤\n",
       "│  1  │  Constant │     f     │   1   │ GreaterThan(lower_bound=0.0) │ LeftTruncatedDistribution(low=0) │\n",
       "└─────┴───────────┴───────────┴───────┴──────────────────────────────┴──────────────────────────────────┘"
      ]
     },
     "execution_count": 21,
     "metadata": {},
     "output_type": "execute_result"
    }
   ],
   "source": [
    "import numpyro.distributions as dist\n",
    "from elisa import DistParameter\n",
    "\n",
    "f = DistParameter(\n",
    "    name='f',\n",
    "    dist=dist.TruncatedNormal(\n",
    "        loc=1.0,\n",
    "        scale=0.2,\n",
    "        low=0.0,\n",
    "    ),\n",
    "    default=1.0,\n",
    ")\n",
    "Constant(f=f)"
   ]
  },
  {
   "cell_type": "markdown",
   "id": "5b026d27803c2b9f",
   "metadata": {},
   "source": [
    "#### ConstantInterval\n",
    "\n",
    "When assigning [`ConstantInterval`](#elisa.models.parameter.ConstantInterval)\n",
    "parameters to a model component, the model will be evaluated according to the\n",
    "following formula:\n",
    "\n",
    "$$\\frac{1}{\\prod_i (b_i - a_i)} \\int f(E, \\vec{\\theta}(\\vec{p}, \\vec{q})) \\, \\mathrm{d} \\vec{p}$$\n",
    "\n",
    "where $f$ is the model function, $\\vec{\\theta}$ is the parameter vector of the\n",
    "model, $\\vec{p}$ is the [`ConstantInterval`](#elisa.models.parameter.ConstantInterval)\n",
    "parameters, $\\vec{q}$ is the other parameters, and $a_i$ and $b_i$ are\n",
    "the intervals given by $\\vec{p}$."
   ]
  },
  {
   "cell_type": "code",
   "execution_count": 22,
   "id": "695890372288dc27",
   "metadata": {
    "ExecuteTime": {
     "end_time": "2024-05-17T16:21:17.492858Z",
     "start_time": "2024-05-17T16:21:17.467017Z"
    }
   },
   "outputs": [
    {
     "data": {
      "text/html": [
       "<details open><summary><b>Model: PowerLaw [add]</b></summary><table frame=\"box\" rules=\"all\">\n",
       "    <thead>\n",
       "        <tr>\n",
       "            <th style=\"padding-left: 1em; padding-right: 1em; text-align: center\">No.</th>\n",
       "            <th style=\"padding-left: 1em; padding-right: 1em; text-align: center\">Component</th>\n",
       "            <th style=\"padding-left: 1em; padding-right: 1em; text-align: center\">Parameter</th>\n",
       "            <th style=\"padding-left: 1em; padding-right: 1em; text-align: center\">Value</th>\n",
       "            <th style=\"padding-left: 1em; padding-right: 1em; text-align: center\">Bound</th>\n",
       "            <th style=\"padding-left: 1em; padding-right: 1em; text-align: center\">Prior</th>\n",
       "        </tr>\n",
       "    </thead>\n",
       "    <tbody>\n",
       "        <tr>\n",
       "            <td style=\"padding-left: 1em; padding-right: 1em; text-align: center; vertical-align: top\"></td>\n",
       "            <td style=\"padding-left: 1em; padding-right: 1em; text-align: center; vertical-align: top\">PowerLaw</td>\n",
       "            <td style=\"padding-left: 1em; padding-right: 1em; text-align: center; vertical-align: top\">alpha</td>\n",
       "            <td style=\"padding-left: 1em; padding-right: 1em; text-align: center; vertical-align: top\">[1, 3]</td>\n",
       "            <td style=\"padding-left: 1em; padding-right: 1em; text-align: center; vertical-align: top\"></td>\n",
       "            <td style=\"padding-left: 1em; padding-right: 1em; text-align: center; vertical-align: top\"></td>\n",
       "        </tr>\n",
       "        <tr>\n",
       "            <td style=\"padding-left: 1em; padding-right: 1em; text-align: center; vertical-align: top\">1</td>\n",
       "            <td style=\"padding-left: 1em; padding-right: 1em; text-align: center; vertical-align: top\">PowerLaw</td>\n",
       "            <td style=\"padding-left: 1em; padding-right: 1em; text-align: center; vertical-align: top\">K</td>\n",
       "            <td style=\"padding-left: 1em; padding-right: 1em; text-align: center; vertical-align: top\">1</td>\n",
       "            <td style=\"padding-left: 1em; padding-right: 1em; text-align: center; vertical-align: top\">(1e-10, 1e+10)</td>\n",
       "            <td style=\"padding-left: 1em; padding-right: 1em; text-align: center; vertical-align: top\">Uniform(1e-10, 1e+10)</td>\n",
       "        </tr>\n",
       "    </tbody>\n",
       "</table></details>"
      ],
      "text/plain": [
       "Model: PowerLaw [add]\n",
       "┌─────┬───────────┬───────────┬────────┬────────────────┬───────────────────────┐\n",
       "│ No. │ Component │ Parameter │ Value  │     Bound      │         Prior         │\n",
       "├─────┼───────────┼───────────┼────────┼────────────────┼───────────────────────┤\n",
       "│     │  PowerLaw │   alpha   │ [1, 3] │                │                       │\n",
       "├─────┼───────────┼───────────┼────────┼────────────────┼───────────────────────┤\n",
       "│  1  │  PowerLaw │     K     │   1    │ (1e-10, 1e+10) │ Uniform(1e-10, 1e+10) │\n",
       "└─────┴───────────┴───────────┴────────┴────────────────┴───────────────────────┘"
      ]
     },
     "execution_count": 22,
     "metadata": {},
     "output_type": "execute_result"
    }
   ],
   "source": [
    "from elisa import ConstantInterval\n",
    "\n",
    "alpha = ConstantInterval(\n",
    "    name='alpha',\n",
    "    interval=[1.0, 3.0],\n",
    ")\n",
    "m7 = PowerLaw(alpha=alpha)\n",
    "m7"
   ]
  },
  {
   "cell_type": "code",
   "execution_count": 23,
   "id": "34021ee063198a00",
   "metadata": {
    "ExecuteTime": {
     "end_time": "2024-05-17T16:21:18.300655Z",
     "start_time": "2024-05-17T16:21:17.493892Z"
    }
   },
   "outputs": [
    {
     "data": {
      "image/png": "[encoded data removed]",
      "text/plain": [
       "<Figure size 640x480 with 1 Axes>"
      ]
     },
     "metadata": {},
     "output_type": "display_data"
    }
   ],
   "source": [
    "photon_egrid = np.linspace(0.3, 15.0, 1000)\n",
    "egrid_mid = 0.5 * (photon_egrid[:-1] + photon_egrid[1:])\n",
    "ne = m7.compile().ne(photon_egrid)\n",
    "plt.step(egrid_mid, ne)\n",
    "plt.title(m7.name)\n",
    "plt.xlabel('Energy [keV]')\n",
    "plt.ylabel('$N_E$ [s$^{-1}$ cm$^{-2}$ keV$^{-1}$]')\n",
    "plt.xscale('log')\n",
    "plt.yscale('log')"
   ]
  },
  {
   "cell_type": "markdown",
   "id": "e622fbb5ce3c54f3",
   "metadata": {},
   "source": [
    "#### CompositeParameter\n",
    "\n",
    "[`CompositeParameter`](#elisa.models.parameter.CompositeParameter) combines\n",
    "multiple parameters into a single parameter. The value of the composite\n",
    "parameter is calculated by a user-defined function that takes the values of\n",
    "the constituent parameters as input. Note that the function must be ``JAX``\n",
    "compatible.\n",
    "\n",
    "It is the key for linking parameters across different model components. For\n",
    "example, we can create a double [`Blackbody`](#elisa.models.add.Blackbody)\n",
    "model, forcing the temperature of one component to be smaller than that of the\n",
    "other,"
   ]
  },
  {
   "cell_type": "code",
   "execution_count": 24,
   "id": "e6b5df7c52635af",
   "metadata": {
    "ExecuteTime": {
     "end_time": "2024-05-17T16:21:18.309143Z",
     "start_time": "2024-05-17T16:21:18.301580Z"
    }
   },
   "outputs": [
    {
     "data": {
      "text/html": [
       "<details open><summary><b>Model: Blackbody + Blackbody_2 [add]</b></summary><table frame=\"box\" rules=\"all\">\n",
       "    <thead>\n",
       "        <tr>\n",
       "            <th style=\"padding-left: 1em; padding-right: 1em; text-align: center\">No.</th>\n",
       "            <th style=\"padding-left: 1em; padding-right: 1em; text-align: center\">Component</th>\n",
       "            <th style=\"padding-left: 1em; padding-right: 1em; text-align: center\">Parameter</th>\n",
       "            <th style=\"padding-left: 1em; padding-right: 1em; text-align: center\">Value</th>\n",
       "            <th style=\"padding-left: 1em; padding-right: 1em; text-align: center\">Bound</th>\n",
       "            <th style=\"padding-left: 1em; padding-right: 1em; text-align: center\">Prior</th>\n",
       "        </tr>\n",
       "    </thead>\n",
       "    <tbody>\n",
       "        <tr>\n",
       "            <td style=\"padding-left: 1em; padding-right: 1em; text-align: center; vertical-align: top\">1</td>\n",
       "            <td style=\"padding-left: 1em; padding-right: 1em; text-align: center; vertical-align: top\">Blackbody</td>\n",
       "            <td style=\"padding-left: 1em; padding-right: 1em; text-align: center; vertical-align: top\">kT</td>\n",
       "            <td style=\"padding-left: 1em; padding-right: 1em; text-align: center; vertical-align: top\">10</td>\n",
       "            <td style=\"padding-left: 1em; padding-right: 1em; text-align: center; vertical-align: top\">(0.1, 150)</td>\n",
       "            <td style=\"padding-left: 1em; padding-right: 1em; text-align: center; vertical-align: top\">Uniform(0.1, 150)</td>\n",
       "        </tr>\n",
       "        <tr>\n",
       "            <td style=\"padding-left: 1em; padding-right: 1em; text-align: center; vertical-align: top\">2</td>\n",
       "            <td style=\"padding-left: 1em; padding-right: 1em; text-align: center; vertical-align: top\">Blackbody</td>\n",
       "            <td style=\"padding-left: 1em; padding-right: 1em; text-align: center; vertical-align: top\">K</td>\n",
       "            <td style=\"padding-left: 1em; padding-right: 1em; text-align: center; vertical-align: top\">1</td>\n",
       "            <td style=\"padding-left: 1em; padding-right: 1em; text-align: center; vertical-align: top\">(1e-10, 1e+10)</td>\n",
       "            <td style=\"padding-left: 1em; padding-right: 1em; text-align: center; vertical-align: top\">Uniform(1e-10, 1e+10)</td>\n",
       "        </tr>\n",
       "        <tr>\n",
       "            <td style=\"padding-left: 1em; padding-right: 1em; text-align: center; vertical-align: top\">*</td>\n",
       "            <td style=\"padding-left: 1em; padding-right: 1em; text-align: center; vertical-align: top\">Blackbody_2</td>\n",
       "            <td style=\"padding-left: 1em; padding-right: 1em; text-align: center; vertical-align: top\">kT</td>\n",
       "            <td style=\"padding-left: 1em; padding-right: 1em; text-align: center; vertical-align: top\">f * Blackbody.kT</td>\n",
       "            <td style=\"padding-left: 1em; padding-right: 1em; text-align: center; vertical-align: top\"></td>\n",
       "            <td style=\"padding-left: 1em; padding-right: 1em; text-align: center; vertical-align: top\"></td>\n",
       "        </tr>\n",
       "        <tr>\n",
       "            <td style=\"padding-left: 1em; padding-right: 1em; text-align: center; vertical-align: top\">3</td>\n",
       "            <td style=\"padding-left: 1em; padding-right: 1em; text-align: center; vertical-align: top\">Blackbody_2</td>\n",
       "            <td style=\"padding-left: 1em; padding-right: 1em; text-align: center; vertical-align: top\">K</td>\n",
       "            <td style=\"padding-left: 1em; padding-right: 1em; text-align: center; vertical-align: top\">1</td>\n",
       "            <td style=\"padding-left: 1em; padding-right: 1em; text-align: center; vertical-align: top\">(1e-10, 1e+10)</td>\n",
       "            <td style=\"padding-left: 1em; padding-right: 1em; text-align: center; vertical-align: top\">Uniform(1e-10, 1e+10)</td>\n",
       "        </tr>\n",
       "        <tr>\n",
       "            <td style=\"padding-left: 1em; padding-right: 1em; text-align: center; vertical-align: top\">4</td>\n",
       "            <td style=\"padding-left: 1em; padding-right: 1em; text-align: center; vertical-align: top\"></td>\n",
       "            <td style=\"padding-left: 1em; padding-right: 1em; text-align: center; vertical-align: top\">f</td>\n",
       "            <td style=\"padding-left: 1em; padding-right: 1em; text-align: center; vertical-align: top\">0.2</td>\n",
       "            <td style=\"padding-left: 1em; padding-right: 1em; text-align: center; vertical-align: top\">(0.01, 1)</td>\n",
       "            <td style=\"padding-left: 1em; padding-right: 1em; text-align: center; vertical-align: top\">Uniform(0.01, 1)</td>\n",
       "        </tr>\n",
       "    </tbody>\n",
       "</table></details>"
      ],
      "text/plain": [
       "Model: Blackbody + Blackbody_2 [add]\n",
       "┌─────┬─────────────┬───────────┬──────────────────┬────────────────┬───────────────────────┐\n",
       "│ No. │  Component  │ Parameter │      Value       │     Bound      │         Prior         │\n",
       "├─────┼─────────────┼───────────┼──────────────────┼────────────────┼───────────────────────┤\n",
       "│  1  │  Blackbody  │     kT    │        10        │   (0.1, 150)   │   Uniform(0.1, 150)   │\n",
       "├─────┼─────────────┼───────────┼──────────────────┼────────────────┼───────────────────────┤\n",
       "│  2  │  Blackbody  │     K     │        1         │ (1e-10, 1e+10) │ Uniform(1e-10, 1e+10) │\n",
       "├─────┼─────────────┼───────────┼──────────────────┼────────────────┼───────────────────────┤\n",
       "│  *  │ Blackbody_2 │     kT    │ f * Blackbody.kT │                │                       │\n",
       "├─────┼─────────────┼───────────┼──────────────────┼────────────────┼───────────────────────┤\n",
       "│  3  │ Blackbody_2 │     K     │        1         │ (1e-10, 1e+10) │ Uniform(1e-10, 1e+10) │\n",
       "├─────┼─────────────┼───────────┼──────────────────┼────────────────┼───────────────────────┤\n",
       "│  4  │             │     f     │       0.2        │   (0.01, 1)    │    Uniform(0.01, 1)   │\n",
       "└─────┴─────────────┴───────────┴──────────────────┴────────────────┴───────────────────────┘"
      ]
     },
     "execution_count": 24,
     "metadata": {},
     "output_type": "execute_result"
    }
   ],
   "source": [
    "import jax.numpy as jnp\n",
    "from elisa import CompositeParameter\n",
    "\n",
    "# Define the temperature parameter of the first blackbody\n",
    "kT1 = UniformParameter(\n",
    "    name='kT',\n",
    "    default=10.0,\n",
    "    min=0.1,\n",
    "    max=150.0,\n",
    ")\n",
    "\n",
    "# Define a factor lies in [0.01, 1.0]\n",
    "f = UniformParameter(\n",
    "    name='f',\n",
    "    default=0.2,\n",
    "    min=0.01,\n",
    "    max=1.0,\n",
    ")\n",
    "\n",
    "# Use CompositeParameter to define the temperature\n",
    "# parameter of the second Blackbody, so that it is\n",
    "# always smaller than kT1 \n",
    "kT2 = CompositeParameter(\n",
    "    params=[f, kT1],\n",
    "    op=lambda x, y: jnp.multiply(x, y),  # x * y also works\n",
    "    op_name='{} * {}',\n",
    ")\n",
    "m8 = Blackbody(kT=kT1) + Blackbody(kT=kT2)\n",
    "m8"
   ]
  },
  {
   "cell_type": "code",
   "execution_count": 25,
   "id": "ccc69b2e9216898f",
   "metadata": {
    "ExecuteTime": {
     "end_time": "2024-05-17T16:21:18.618089Z",
     "start_time": "2024-05-17T16:21:18.309944Z"
    }
   },
   "outputs": [
    {
     "data": {
      "image/png": "[encoded data removed]",
      "text/plain": [
       "<Figure size 640x480 with 1 Axes>"
      ]
     },
     "metadata": {},
     "output_type": "display_data"
    }
   ],
   "source": [
    "photon_egrid = np.linspace(1, 500.0, 1000)\n",
    "egrid_mid = 0.5 * (photon_egrid[:-1] + photon_egrid[1:])\n",
    "compiled_model = m8.compile()\n",
    "vFv = compiled_model.eene(photon_egrid)\n",
    "bb1 = compiled_model.eene(photon_egrid, params={'Blackbody_2.K': 0.0})\n",
    "bb2 = compiled_model.eene(photon_egrid, params={'Blackbody.K': 0.0})\n",
    "plt.step(egrid_mid, vFv, label='total')\n",
    "plt.step(egrid_mid, bb1, ls=':', label='Blackbody')\n",
    "plt.step(egrid_mid, bb2, ls=':', label='Blackbody_2')\n",
    "plt.legend()\n",
    "plt.title(m8.name)\n",
    "plt.xlabel('Energy [keV]')\n",
    "plt.ylabel(r'$\\nu F_\\nu$ [erg s$^{-1}$ cm$^{-2}$]')\n",
    "plt.xscale('log')\n",
    "plt.yscale('log')"
   ]
  },
  {
   "cell_type": "markdown",
   "id": "6a5215b450262059",
   "metadata": {},
   "source": [
    "We can create a series of power-law models, whose photon indices are evolving\n",
    "from hard to soft,"
   ]
  },
  {
   "cell_type": "code",
   "execution_count": 26,
   "id": "6bdf26915a7a419e",
   "metadata": {
    "ExecuteTime": {
     "end_time": "2024-05-17T16:21:18.627852Z",
     "start_time": "2024-05-17T16:21:18.618987Z"
    }
   },
   "outputs": [
    {
     "data": {
      "text/html": [
       "<details open><summary><b>Model: PowerLaw [add]</b></summary><table frame=\"box\" rules=\"all\">\n",
       "    <thead>\n",
       "        <tr>\n",
       "            <th style=\"padding-left: 1em; padding-right: 1em; text-align: center\">No.</th>\n",
       "            <th style=\"padding-left: 1em; padding-right: 1em; text-align: center\">Component</th>\n",
       "            <th style=\"padding-left: 1em; padding-right: 1em; text-align: center\">Parameter</th>\n",
       "            <th style=\"padding-left: 1em; padding-right: 1em; text-align: center\">Value</th>\n",
       "            <th style=\"padding-left: 1em; padding-right: 1em; text-align: center\">Bound</th>\n",
       "            <th style=\"padding-left: 1em; padding-right: 1em; text-align: center\">Prior</th>\n",
       "        </tr>\n",
       "    </thead>\n",
       "    <tbody>\n",
       "        <tr>\n",
       "            <td style=\"padding-left: 1em; padding-right: 1em; text-align: center; vertical-align: top\"></td>\n",
       "            <td style=\"padding-left: 1em; padding-right: 1em; text-align: center; vertical-align: top\">PowerLaw</td>\n",
       "            <td style=\"padding-left: 1em; padding-right: 1em; text-align: center; vertical-align: top\">alpha</td>\n",
       "            <td style=\"padding-left: 1em; padding-right: 1em; text-align: center; vertical-align: top\">a0 + t * r</td>\n",
       "            <td style=\"padding-left: 1em; padding-right: 1em; text-align: center; vertical-align: top\"></td>\n",
       "            <td style=\"padding-left: 1em; padding-right: 1em; text-align: center; vertical-align: top\"></td>\n",
       "        </tr>\n",
       "        <tr>\n",
       "            <td style=\"padding-left: 1em; padding-right: 1em; text-align: center; vertical-align: top\">1</td>\n",
       "            <td style=\"padding-left: 1em; padding-right: 1em; text-align: center; vertical-align: top\">PowerLaw</td>\n",
       "            <td style=\"padding-left: 1em; padding-right: 1em; text-align: center; vertical-align: top\">K</td>\n",
       "            <td style=\"padding-left: 1em; padding-right: 1em; text-align: center; vertical-align: top\">1</td>\n",
       "            <td style=\"padding-left: 1em; padding-right: 1em; text-align: center; vertical-align: top\">(1e-10, 1e+10)</td>\n",
       "            <td style=\"padding-left: 1em; padding-right: 1em; text-align: center; vertical-align: top\">Uniform(1e-10, 1e+10)</td>\n",
       "        </tr>\n",
       "        <tr>\n",
       "            <td style=\"padding-left: 1em; padding-right: 1em; text-align: center; vertical-align: top\">2</td>\n",
       "            <td style=\"padding-left: 1em; padding-right: 1em; text-align: center; vertical-align: top\"></td>\n",
       "            <td style=\"padding-left: 1em; padding-right: 1em; text-align: center; vertical-align: top\">a0</td>\n",
       "            <td style=\"padding-left: 1em; padding-right: 1em; text-align: center; vertical-align: top\">0.5</td>\n",
       "            <td style=\"padding-left: 1em; padding-right: 1em; text-align: center; vertical-align: top\">(0.1, 1)</td>\n",
       "            <td style=\"padding-left: 1em; padding-right: 1em; text-align: center; vertical-align: top\">Uniform(0.1, 1)</td>\n",
       "        </tr>\n",
       "        <tr>\n",
       "            <td style=\"padding-left: 1em; padding-right: 1em; text-align: center; vertical-align: top\"></td>\n",
       "            <td style=\"padding-left: 1em; padding-right: 1em; text-align: center; vertical-align: top\"></td>\n",
       "            <td style=\"padding-left: 1em; padding-right: 1em; text-align: center; vertical-align: top\">t</td>\n",
       "            <td style=\"padding-left: 1em; padding-right: 1em; text-align: center; vertical-align: top\">[0, 1]</td>\n",
       "            <td style=\"padding-left: 1em; padding-right: 1em; text-align: center; vertical-align: top\"></td>\n",
       "            <td style=\"padding-left: 1em; padding-right: 1em; text-align: center; vertical-align: top\"></td>\n",
       "        </tr>\n",
       "        <tr>\n",
       "            <td style=\"padding-left: 1em; padding-right: 1em; text-align: center; vertical-align: top\">3</td>\n",
       "            <td style=\"padding-left: 1em; padding-right: 1em; text-align: center; vertical-align: top\"></td>\n",
       "            <td style=\"padding-left: 1em; padding-right: 1em; text-align: center; vertical-align: top\">r</td>\n",
       "            <td style=\"padding-left: 1em; padding-right: 1em; text-align: center; vertical-align: top\">1</td>\n",
       "            <td style=\"padding-left: 1em; padding-right: 1em; text-align: center; vertical-align: top\">(0.5, 2)</td>\n",
       "            <td style=\"padding-left: 1em; padding-right: 1em; text-align: center; vertical-align: top\">Uniform(0.5, 2)</td>\n",
       "        </tr>\n",
       "    </tbody>\n",
       "</table></details>"
      ],
      "text/plain": [
       "Model: PowerLaw [add]\n",
       "┌─────┬───────────┬───────────┬────────────┬────────────────┬───────────────────────┐\n",
       "│ No. │ Component │ Parameter │   Value    │     Bound      │         Prior         │\n",
       "├─────┼───────────┼───────────┼────────────┼────────────────┼───────────────────────┤\n",
       "│     │  PowerLaw │   alpha   │ a0 + t * r │                │                       │\n",
       "├─────┼───────────┼───────────┼────────────┼────────────────┼───────────────────────┤\n",
       "│  1  │  PowerLaw │     K     │     1      │ (1e-10, 1e+10) │ Uniform(1e-10, 1e+10) │\n",
       "├─────┼───────────┼───────────┼────────────┼────────────────┼───────────────────────┤\n",
       "│  2  │           │     a0    │    0.5     │    (0.1, 1)    │    Uniform(0.1, 1)    │\n",
       "├─────┼───────────┼───────────┼────────────┼────────────────┼───────────────────────┤\n",
       "│     │           │     t     │   [0, 1]   │                │                       │\n",
       "├─────┼───────────┼───────────┼────────────┼────────────────┼───────────────────────┤\n",
       "│  3  │           │     r     │     1      │    (0.5, 2)    │    Uniform(0.5, 2)    │\n",
       "└─────┴───────────┴───────────┴────────────┴────────────────┴───────────────────────┘"
      ]
     },
     "execution_count": 26,
     "metadata": {},
     "output_type": "execute_result"
    }
   ],
   "source": [
    "# Create 10 time bins\n",
    "n = 5\n",
    "time_grid = np.linspace(0.0, 5.0, n + 1) \n",
    "\n",
    "# The initial photon index\n",
    "a0 = UniformParameter(\n",
    "    name='a0',\n",
    "    default=0.5,\n",
    "    min=0.1,\n",
    "    max=1.0,\n",
    ")\n",
    "\n",
    "# The decreasing rate of photon index \n",
    "rate = UniformParameter(\n",
    "    name='r',\n",
    "    default=1.0,\n",
    "    min=0.5,\n",
    "    max=2.0,\n",
    ")\n",
    "\n",
    "models = []\n",
    "for i in range(n):\n",
    "    t = ConstantInterval('t', time_grid[i:i+2])\n",
    "    alpha = a0 + t * rate\n",
    "    models.append(PowerLaw(alpha=alpha))\n",
    "models[0]"
   ]
  },
  {
   "cell_type": "code",
   "execution_count": 27,
   "id": "b9dd0a4a54b960dc",
   "metadata": {
    "ExecuteTime": {
     "end_time": "2024-05-17T16:21:18.632794Z",
     "start_time": "2024-05-17T16:21:18.628774Z"
    }
   },
   "outputs": [
    {
     "data": {
      "text/html": [
       "<details open><summary><b>Model: PowerLaw [add]</b></summary><table frame=\"box\" rules=\"all\">\n",
       "    <thead>\n",
       "        <tr>\n",
       "            <th style=\"padding-left: 1em; padding-right: 1em; text-align: center\">No.</th>\n",
       "            <th style=\"padding-left: 1em; padding-right: 1em; text-align: center\">Component</th>\n",
       "            <th style=\"padding-left: 1em; padding-right: 1em; text-align: center\">Parameter</th>\n",
       "            <th style=\"padding-left: 1em; padding-right: 1em; text-align: center\">Value</th>\n",
       "            <th style=\"padding-left: 1em; padding-right: 1em; text-align: center\">Bound</th>\n",
       "            <th style=\"padding-left: 1em; padding-right: 1em; text-align: center\">Prior</th>\n",
       "        </tr>\n",
       "    </thead>\n",
       "    <tbody>\n",
       "        <tr>\n",
       "            <td style=\"padding-left: 1em; padding-right: 1em; text-align: center; vertical-align: top\"></td>\n",
       "            <td style=\"padding-left: 1em; padding-right: 1em; text-align: center; vertical-align: top\">PowerLaw</td>\n",
       "            <td style=\"padding-left: 1em; padding-right: 1em; text-align: center; vertical-align: top\">alpha</td>\n",
       "            <td style=\"padding-left: 1em; padding-right: 1em; text-align: center; vertical-align: top\">a0 + t * r</td>\n",
       "            <td style=\"padding-left: 1em; padding-right: 1em; text-align: center; vertical-align: top\"></td>\n",
       "            <td style=\"padding-left: 1em; padding-right: 1em; text-align: center; vertical-align: top\"></td>\n",
       "        </tr>\n",
       "        <tr>\n",
       "            <td style=\"padding-left: 1em; padding-right: 1em; text-align: center; vertical-align: top\">1</td>\n",
       "            <td style=\"padding-left: 1em; padding-right: 1em; text-align: center; vertical-align: top\">PowerLaw</td>\n",
       "            <td style=\"padding-left: 1em; padding-right: 1em; text-align: center; vertical-align: top\">K</td>\n",
       "            <td style=\"padding-left: 1em; padding-right: 1em; text-align: center; vertical-align: top\">1</td>\n",
       "            <td style=\"padding-left: 1em; padding-right: 1em; text-align: center; vertical-align: top\">(1e-10, 1e+10)</td>\n",
       "            <td style=\"padding-left: 1em; padding-right: 1em; text-align: center; vertical-align: top\">Uniform(1e-10, 1e+10)</td>\n",
       "        </tr>\n",
       "        <tr>\n",
       "            <td style=\"padding-left: 1em; padding-right: 1em; text-align: center; vertical-align: top\">2</td>\n",
       "            <td style=\"padding-left: 1em; padding-right: 1em; text-align: center; vertical-align: top\"></td>\n",
       "            <td style=\"padding-left: 1em; padding-right: 1em; text-align: center; vertical-align: top\">a0</td>\n",
       "            <td style=\"padding-left: 1em; padding-right: 1em; text-align: center; vertical-align: top\">0.5</td>\n",
       "            <td style=\"padding-left: 1em; padding-right: 1em; text-align: center; vertical-align: top\">(0.1, 1)</td>\n",
       "            <td style=\"padding-left: 1em; padding-right: 1em; text-align: center; vertical-align: top\">Uniform(0.1, 1)</td>\n",
       "        </tr>\n",
       "        <tr>\n",
       "            <td style=\"padding-left: 1em; padding-right: 1em; text-align: center; vertical-align: top\"></td>\n",
       "            <td style=\"padding-left: 1em; padding-right: 1em; text-align: center; vertical-align: top\"></td>\n",
       "            <td style=\"padding-left: 1em; padding-right: 1em; text-align: center; vertical-align: top\">t</td>\n",
       "            <td style=\"padding-left: 1em; padding-right: 1em; text-align: center; vertical-align: top\">[1, 2]</td>\n",
       "            <td style=\"padding-left: 1em; padding-right: 1em; text-align: center; vertical-align: top\"></td>\n",
       "            <td style=\"padding-left: 1em; padding-right: 1em; text-align: center; vertical-align: top\"></td>\n",
       "        </tr>\n",
       "        <tr>\n",
       "            <td style=\"padding-left: 1em; padding-right: 1em; text-align: center; vertical-align: top\">3</td>\n",
       "            <td style=\"padding-left: 1em; padding-right: 1em; text-align: center; vertical-align: top\"></td>\n",
       "            <td style=\"padding-left: 1em; padding-right: 1em; text-align: center; vertical-align: top\">r</td>\n",
       "            <td style=\"padding-left: 1em; padding-right: 1em; text-align: center; vertical-align: top\">1</td>\n",
       "            <td style=\"padding-left: 1em; padding-right: 1em; text-align: center; vertical-align: top\">(0.5, 2)</td>\n",
       "            <td style=\"padding-left: 1em; padding-right: 1em; text-align: center; vertical-align: top\">Uniform(0.5, 2)</td>\n",
       "        </tr>\n",
       "    </tbody>\n",
       "</table></details>"
      ],
      "text/plain": [
       "Model: PowerLaw [add]\n",
       "┌─────┬───────────┬───────────┬────────────┬────────────────┬───────────────────────┐\n",
       "│ No. │ Component │ Parameter │   Value    │     Bound      │         Prior         │\n",
       "├─────┼───────────┼───────────┼────────────┼────────────────┼───────────────────────┤\n",
       "│     │  PowerLaw │   alpha   │ a0 + t * r │                │                       │\n",
       "├─────┼───────────┼───────────┼────────────┼────────────────┼───────────────────────┤\n",
       "│  1  │  PowerLaw │     K     │     1      │ (1e-10, 1e+10) │ Uniform(1e-10, 1e+10) │\n",
       "├─────┼───────────┼───────────┼────────────┼────────────────┼───────────────────────┤\n",
       "│  2  │           │     a0    │    0.5     │    (0.1, 1)    │    Uniform(0.1, 1)    │\n",
       "├─────┼───────────┼───────────┼────────────┼────────────────┼───────────────────────┤\n",
       "│     │           │     t     │   [1, 2]   │                │                       │\n",
       "├─────┼───────────┼───────────┼────────────┼────────────────┼───────────────────────┤\n",
       "│  3  │           │     r     │     1      │    (0.5, 2)    │    Uniform(0.5, 2)    │\n",
       "└─────┴───────────┴───────────┴────────────┴────────────────┴───────────────────────┘"
      ]
     },
     "execution_count": 27,
     "metadata": {},
     "output_type": "execute_result"
    }
   ],
   "source": [
    "models[1]"
   ]
  },
  {
   "cell_type": "markdown",
   "id": "27f8ba5e159e51df",
   "metadata": {},
   "source": [
    "Note the a0 and r parameters are shared among models."
   ]
  },
  {
   "cell_type": "code",
   "execution_count": 28,
   "id": "a9ead04b3007ad30",
   "metadata": {
    "ExecuteTime": {
     "end_time": "2024-05-17T16:21:21.289924Z",
     "start_time": "2024-05-17T16:21:18.636318Z"
    }
   },
   "outputs": [
    {
     "data": {
      "image/png": "[encoded data removed]",
      "text/plain": [
       "<Figure size 640x480 with 1 Axes>"
      ]
     },
     "metadata": {},
     "output_type": "display_data"
    }
   ],
   "source": [
    "# Plot default decreasing rate \n",
    "photon_egrid = np.geomspace(0.1, 10.0, 300)\n",
    "egrid_mid = 0.5 * (photon_egrid[:-1] + photon_egrid[1:])\n",
    "for i in range(n):\n",
    "    ne = models[i].compile().ne(photon_egrid)\n",
    "    label = f'[{time_grid[i]}, {time_grid[i+1]}] s'\n",
    "    plt.step(egrid_mid, ne, label=label)\n",
    "plt.legend()\n",
    "plt.xlabel('Energy [keV]')\n",
    "plt.ylabel('$N_E$ [s$^{-1}$ cm$^{-2}$ keV$^{-1}$]')\n",
    "plt.xscale('log')\n",
    "plt.yscale('log')"
   ]
  },
  {
   "cell_type": "code",
   "execution_count": 29,
   "id": "bd58a07c8c2c4df8",
   "metadata": {
    "ExecuteTime": {
     "end_time": "2024-05-17T16:21:23.927285Z",
     "start_time": "2024-05-17T16:21:21.290715Z"
    }
   },
   "outputs": [
    {
     "data": {
      "image/png": "[encoded data removed]",
      "text/plain": [
       "<Figure size 640x480 with 1 Axes>"
      ]
     },
     "metadata": {},
     "output_type": "display_data"
    }
   ],
   "source": [
    "# Plot a0=0, r=0.2\n",
    "params = {'a0': 0, 'r': 1.5}\n",
    "photon_egrid = np.geomspace(0.1, 10.0, 300)\n",
    "egrid_mid = 0.5 * (photon_egrid[:-1] + photon_egrid[1:])\n",
    "for i in range(n):\n",
    "    ne = models[i].compile().ne(photon_egrid, params=params)\n",
    "    label = f'[{time_grid[i]}, {time_grid[i+1]}] s'\n",
    "    plt.step(egrid_mid, ne, label=label)\n",
    "plt.legend()\n",
    "plt.xlabel('Energy [keV]')\n",
    "plt.ylabel('$N_E$ [s$^{-1}$ cm$^{-2}$ keV$^{-1}$]')\n",
    "plt.xscale('log')\n",
    "plt.yscale('log')"
   ]
  },
  {
   "cell_type": "markdown",
   "id": "6917729c37a9fe14",
   "metadata": {},
   "source": [
    "When generating the `alpha` parameters for power-law model for each time slice,\n",
    "we set ``alpha = a0 + t * rate``, rather than using the [`CompositeParameter`](#elisa.models.parameter.CompositeParameter). This is because ``ELISA`` provides a set of arithmetic\n",
    "operators to create [`CompositeParameter`](#elisa.models.parameter.CompositeParameter)\n",
    "in a more straightforward way.\n",
    "We can use these operators on two parameters (including composite ones):\n",
    "\n",
    "- `+`: sum\n",
    "- `-`: subtraction\n",
    "- `*`: multiplication\n",
    "- `/`: division\n",
    "- `**`: power\n",
    "\n",
    "For example,"
   ]
  },
  {
   "cell_type": "code",
   "execution_count": 30,
   "id": "5e4717c3f295ba6c",
   "metadata": {
    "ExecuteTime": {
     "end_time": "2024-05-17T16:21:23.932052Z",
     "start_time": "2024-05-17T16:21:23.928080Z"
    }
   },
   "outputs": [
    {
     "name": "stdout",
     "output_type": "stream",
     "text": [
      "CompositeParameter x^y\n"
     ]
    }
   ],
   "source": [
    "x = UniformParameter('x', 5, 1, 10)\n",
    "y = UniformParameter('y', -2, -5, 10)\n",
    "z = x ** y\n",
    "print(type(z).__name__, z)"
   ]
  },
  {
   "cell_type": "markdown",
   "id": "71430e133af1eecc",
   "metadata": {},
   "source": [
    "### Manipulating Parameters of Components\n",
    "\n",
    "We can manipulate the parameters of the components after the model is created."
   ]
  },
  {
   "cell_type": "code",
   "execution_count": 31,
   "id": "ceb6035e444e53a3",
   "metadata": {
    "ExecuteTime": {
     "end_time": "2024-05-17T16:21:23.938001Z",
     "start_time": "2024-05-17T16:21:23.932770Z"
    }
   },
   "outputs": [
    {
     "name": "stdout",
     "output_type": "stream",
     "text": [
      "K, UniformParameter, 1.0, 1e-10, 10000000000.0, False, False\n"
     ]
    },
    {
     "data": {
      "text/html": [
       "<details open><summary><b>Model: PowerLaw [add]</b></summary><table frame=\"box\" rules=\"all\">\n",
       "    <thead>\n",
       "        <tr>\n",
       "            <th style=\"padding-left: 1em; padding-right: 1em; text-align: center\">No.</th>\n",
       "            <th style=\"padding-left: 1em; padding-right: 1em; text-align: center\">Component</th>\n",
       "            <th style=\"padding-left: 1em; padding-right: 1em; text-align: center\">Parameter</th>\n",
       "            <th style=\"padding-left: 1em; padding-right: 1em; text-align: center\">Value</th>\n",
       "            <th style=\"padding-left: 1em; padding-right: 1em; text-align: center\">Bound</th>\n",
       "            <th style=\"padding-left: 1em; padding-right: 1em; text-align: center\">Prior</th>\n",
       "        </tr>\n",
       "    </thead>\n",
       "    <tbody>\n",
       "        <tr>\n",
       "            <td style=\"padding-left: 1em; padding-right: 1em; text-align: center; vertical-align: top\">1</td>\n",
       "            <td style=\"padding-left: 1em; padding-right: 1em; text-align: center; vertical-align: top\">PowerLaw</td>\n",
       "            <td style=\"padding-left: 1em; padding-right: 1em; text-align: center; vertical-align: top\">alpha</td>\n",
       "            <td style=\"padding-left: 1em; padding-right: 1em; text-align: center; vertical-align: top\">1.01</td>\n",
       "            <td style=\"padding-left: 1em; padding-right: 1em; text-align: center; vertical-align: top\">(-3, 10)</td>\n",
       "            <td style=\"padding-left: 1em; padding-right: 1em; text-align: center; vertical-align: top\">Uniform(-3, 10)</td>\n",
       "        </tr>\n",
       "        <tr>\n",
       "            <td style=\"padding-left: 1em; padding-right: 1em; text-align: center; vertical-align: top\">2</td>\n",
       "            <td style=\"padding-left: 1em; padding-right: 1em; text-align: center; vertical-align: top\">PowerLaw</td>\n",
       "            <td style=\"padding-left: 1em; padding-right: 1em; text-align: center; vertical-align: top\">K</td>\n",
       "            <td style=\"padding-left: 1em; padding-right: 1em; text-align: center; vertical-align: top\">1</td>\n",
       "            <td style=\"padding-left: 1em; padding-right: 1em; text-align: center; vertical-align: top\">(1e-10, 1e+10)</td>\n",
       "            <td style=\"padding-left: 1em; padding-right: 1em; text-align: center; vertical-align: top\">Uniform(1e-10, 1e+10)</td>\n",
       "        </tr>\n",
       "    </tbody>\n",
       "</table></details>"
      ],
      "text/plain": [
       "Model: PowerLaw [add]\n",
       "┌─────┬───────────┬───────────┬───────┬────────────────┬───────────────────────┐\n",
       "│ No. │ Component │ Parameter │ Value │     Bound      │         Prior         │\n",
       "├─────┼───────────┼───────────┼───────┼────────────────┼───────────────────────┤\n",
       "│  1  │  PowerLaw │   alpha   │  1.01 │    (-3, 10)    │    Uniform(-3, 10)    │\n",
       "├─────┼───────────┼───────────┼───────┼────────────────┼───────────────────────┤\n",
       "│  2  │  PowerLaw │     K     │   1   │ (1e-10, 1e+10) │ Uniform(1e-10, 1e+10) │\n",
       "└─────┴───────────┴───────────┴───────┴────────────────┴───────────────────────┘"
      ]
     },
     "execution_count": 31,
     "metadata": {},
     "output_type": "execute_result"
    }
   ],
   "source": [
    "m9 = PowerLaw()\n",
    "\n",
    "# We first get the powerlaw component,\n",
    "# then modify K of the component.\n",
    "# Note that K is a UniformParameter by default,\n",
    "# with the default, min, max, log, and fixed attributes.\n",
    "\n",
    "K = m9.PowerLaw.K\n",
    "print(\n",
    "    'K',\n",
    "    type(K).__name__,\n",
    "    K.default,\n",
    "    K.min,\n",
    "    K.max,\n",
    "    K.log,\n",
    "    K.fixed,\n",
    "    sep=', '\n",
    ")\n",
    "m9"
   ]
  },
  {
   "cell_type": "code",
   "execution_count": 32,
   "id": "69fbd4623322722",
   "metadata": {
    "ExecuteTime": {
     "end_time": "2024-05-17T16:21:23.942754Z",
     "start_time": "2024-05-17T16:21:23.938654Z"
    }
   },
   "outputs": [
    {
     "data": {
      "text/html": [
       "<details open><summary><b>Model: PowerLaw [add]</b></summary><table frame=\"box\" rules=\"all\">\n",
       "    <thead>\n",
       "        <tr>\n",
       "            <th style=\"padding-left: 1em; padding-right: 1em; text-align: center\">No.</th>\n",
       "            <th style=\"padding-left: 1em; padding-right: 1em; text-align: center\">Component</th>\n",
       "            <th style=\"padding-left: 1em; padding-right: 1em; text-align: center\">Parameter</th>\n",
       "            <th style=\"padding-left: 1em; padding-right: 1em; text-align: center\">Value</th>\n",
       "            <th style=\"padding-left: 1em; padding-right: 1em; text-align: center\">Bound</th>\n",
       "            <th style=\"padding-left: 1em; padding-right: 1em; text-align: center\">Prior</th>\n",
       "        </tr>\n",
       "    </thead>\n",
       "    <tbody>\n",
       "        <tr>\n",
       "            <td style=\"padding-left: 1em; padding-right: 1em; text-align: center; vertical-align: top\">1</td>\n",
       "            <td style=\"padding-left: 1em; padding-right: 1em; text-align: center; vertical-align: top\">PowerLaw</td>\n",
       "            <td style=\"padding-left: 1em; padding-right: 1em; text-align: center; vertical-align: top\">alpha</td>\n",
       "            <td style=\"padding-left: 1em; padding-right: 1em; text-align: center; vertical-align: top\">1.01</td>\n",
       "            <td style=\"padding-left: 1em; padding-right: 1em; text-align: center; vertical-align: top\">(-3, 10)</td>\n",
       "            <td style=\"padding-left: 1em; padding-right: 1em; text-align: center; vertical-align: top\">Uniform(-3, 10)</td>\n",
       "        </tr>\n",
       "        <tr>\n",
       "            <td style=\"padding-left: 1em; padding-right: 1em; text-align: center; vertical-align: top\">2</td>\n",
       "            <td style=\"padding-left: 1em; padding-right: 1em; text-align: center; vertical-align: top\">PowerLaw</td>\n",
       "            <td style=\"padding-left: 1em; padding-right: 1em; text-align: center; vertical-align: top\">K</td>\n",
       "            <td style=\"padding-left: 1em; padding-right: 1em; text-align: center; vertical-align: top\">1.5</td>\n",
       "            <td style=\"padding-left: 1em; padding-right: 1em; text-align: center; vertical-align: top\">(0.1, 5)</td>\n",
       "            <td style=\"padding-left: 1em; padding-right: 1em; text-align: center; vertical-align: top\">LogUniform(0.1, 5)</td>\n",
       "        </tr>\n",
       "    </tbody>\n",
       "</table></details>"
      ],
      "text/plain": [
       "Model: PowerLaw [add]\n",
       "┌─────┬───────────┬───────────┬───────┬──────────┬────────────────────┐\n",
       "│ No. │ Component │ Parameter │ Value │  Bound   │       Prior        │\n",
       "├─────┼───────────┼───────────┼───────┼──────────┼────────────────────┤\n",
       "│  1  │  PowerLaw │   alpha   │  1.01 │ (-3, 10) │  Uniform(-3, 10)   │\n",
       "├─────┼───────────┼───────────┼───────┼──────────┼────────────────────┤\n",
       "│  2  │  PowerLaw │     K     │  1.5  │ (0.1, 5) │ LogUniform(0.1, 5) │\n",
       "└─────┴───────────┴───────────┴───────┴──────────┴────────────────────┘"
      ]
     },
     "execution_count": 32,
     "metadata": {},
     "output_type": "execute_result"
    }
   ],
   "source": [
    "m9.PowerLaw.K.default = 1.5\n",
    "m9['PowerLaw'].K.min = 0.1\n",
    "m9.PowerLaw['K'].max = 5.0\n",
    "m9['PowerLaw']['K'].log = True\n",
    "m9"
   ]
  },
  {
   "cell_type": "code",
   "execution_count": 33,
   "id": "65a95c6df693f532",
   "metadata": {
    "ExecuteTime": {
     "end_time": "2024-05-17T16:21:23.946726Z",
     "start_time": "2024-05-17T16:21:23.943348Z"
    }
   },
   "outputs": [
    {
     "data": {
      "text/html": [
       "<details open><summary><b>Model: PowerLaw [add]</b></summary><table frame=\"box\" rules=\"all\">\n",
       "    <thead>\n",
       "        <tr>\n",
       "            <th style=\"padding-left: 1em; padding-right: 1em; text-align: center\">No.</th>\n",
       "            <th style=\"padding-left: 1em; padding-right: 1em; text-align: center\">Component</th>\n",
       "            <th style=\"padding-left: 1em; padding-right: 1em; text-align: center\">Parameter</th>\n",
       "            <th style=\"padding-left: 1em; padding-right: 1em; text-align: center\">Value</th>\n",
       "            <th style=\"padding-left: 1em; padding-right: 1em; text-align: center\">Bound</th>\n",
       "            <th style=\"padding-left: 1em; padding-right: 1em; text-align: center\">Prior</th>\n",
       "        </tr>\n",
       "    </thead>\n",
       "    <tbody>\n",
       "        <tr>\n",
       "            <td style=\"padding-left: 1em; padding-right: 1em; text-align: center; vertical-align: top\">1</td>\n",
       "            <td style=\"padding-left: 1em; padding-right: 1em; text-align: center; vertical-align: top\">PowerLaw</td>\n",
       "            <td style=\"padding-left: 1em; padding-right: 1em; text-align: center; vertical-align: top\">alpha</td>\n",
       "            <td style=\"padding-left: 1em; padding-right: 1em; text-align: center; vertical-align: top\">1.01</td>\n",
       "            <td style=\"padding-left: 1em; padding-right: 1em; text-align: center; vertical-align: top\">(-3, 10)</td>\n",
       "            <td style=\"padding-left: 1em; padding-right: 1em; text-align: center; vertical-align: top\">Uniform(-3, 10)</td>\n",
       "        </tr>\n",
       "        <tr>\n",
       "            <td style=\"padding-left: 1em; padding-right: 1em; text-align: center; vertical-align: top\">2</td>\n",
       "            <td style=\"padding-left: 1em; padding-right: 1em; text-align: center; vertical-align: top\">PowerLaw</td>\n",
       "            <td style=\"padding-left: 1em; padding-right: 1em; text-align: center; vertical-align: top\">K</td>\n",
       "            <td style=\"padding-left: 1em; padding-right: 1em; text-align: center; vertical-align: top\">10</td>\n",
       "            <td style=\"padding-left: 1em; padding-right: 1em; text-align: center; vertical-align: top\">Positive(lower_bound=0.0)</td>\n",
       "            <td style=\"padding-left: 1em; padding-right: 1em; text-align: center; vertical-align: top\">LogNormal(loc=10, scale=1)</td>\n",
       "        </tr>\n",
       "    </tbody>\n",
       "</table></details>"
      ],
      "text/plain": [
       "Model: PowerLaw [add]\n",
       "┌─────┬───────────┬───────────┬───────┬───────────────────────────┬────────────────────────────┐\n",
       "│ No. │ Component │ Parameter │ Value │           Bound           │           Prior            │\n",
       "├─────┼───────────┼───────────┼───────┼───────────────────────────┼────────────────────────────┤\n",
       "│  1  │  PowerLaw │   alpha   │  1.01 │          (-3, 10)         │      Uniform(-3, 10)       │\n",
       "├─────┼───────────┼───────────┼───────┼───────────────────────────┼────────────────────────────┤\n",
       "│  2  │  PowerLaw │     K     │   10  │ Positive(lower_bound=0.0) │ LogNormal(loc=10, scale=1) │\n",
       "└─────┴───────────┴───────────┴───────┴───────────────────────────┴────────────────────────────┘"
      ]
     },
     "execution_count": 33,
     "metadata": {},
     "output_type": "execute_result"
    }
   ],
   "source": [
    "# Set K to DistParameter with LogNormal distribution\n",
    "m9.PowerLaw.K = DistParameter(\n",
    "    name='K',\n",
    "    dist=dist.LogNormal(10, 1),\n",
    "    default=10,\n",
    ")\n",
    "m9"
   ]
  },
  {
   "cell_type": "markdown",
   "id": "67bdf1d54622e0df",
   "metadata": {},
   "source": [
    "A more convenient method to create a model with two blackbodies, as shown in the example above, is as follows:"
   ]
  },
  {
   "cell_type": "code",
   "execution_count": 34,
   "id": "271123e4aa7eac42",
   "metadata": {
    "ExecuteTime": {
     "end_time": "2024-05-17T16:21:23.954163Z",
     "start_time": "2024-05-17T16:21:23.947423Z"
    }
   },
   "outputs": [
    {
     "data": {
      "text/html": [
       "<details open><summary><b>Model: Blackbody + Blackbody_2 [add]</b></summary><table frame=\"box\" rules=\"all\">\n",
       "    <thead>\n",
       "        <tr>\n",
       "            <th style=\"padding-left: 1em; padding-right: 1em; text-align: center\">No.</th>\n",
       "            <th style=\"padding-left: 1em; padding-right: 1em; text-align: center\">Component</th>\n",
       "            <th style=\"padding-left: 1em; padding-right: 1em; text-align: center\">Parameter</th>\n",
       "            <th style=\"padding-left: 1em; padding-right: 1em; text-align: center\">Value</th>\n",
       "            <th style=\"padding-left: 1em; padding-right: 1em; text-align: center\">Bound</th>\n",
       "            <th style=\"padding-left: 1em; padding-right: 1em; text-align: center\">Prior</th>\n",
       "        </tr>\n",
       "    </thead>\n",
       "    <tbody>\n",
       "        <tr>\n",
       "            <td style=\"padding-left: 1em; padding-right: 1em; text-align: center; vertical-align: top\">1</td>\n",
       "            <td style=\"padding-left: 1em; padding-right: 1em; text-align: center; vertical-align: top\">Blackbody</td>\n",
       "            <td style=\"padding-left: 1em; padding-right: 1em; text-align: center; vertical-align: top\">kT</td>\n",
       "            <td style=\"padding-left: 1em; padding-right: 1em; text-align: center; vertical-align: top\">3</td>\n",
       "            <td style=\"padding-left: 1em; padding-right: 1em; text-align: center; vertical-align: top\">(0.0001, 200)</td>\n",
       "            <td style=\"padding-left: 1em; padding-right: 1em; text-align: center; vertical-align: top\">Uniform(0.0001, 200)</td>\n",
       "        </tr>\n",
       "        <tr>\n",
       "            <td style=\"padding-left: 1em; padding-right: 1em; text-align: center; vertical-align: top\">2</td>\n",
       "            <td style=\"padding-left: 1em; padding-right: 1em; text-align: center; vertical-align: top\">Blackbody</td>\n",
       "            <td style=\"padding-left: 1em; padding-right: 1em; text-align: center; vertical-align: top\">K</td>\n",
       "            <td style=\"padding-left: 1em; padding-right: 1em; text-align: center; vertical-align: top\">1</td>\n",
       "            <td style=\"padding-left: 1em; padding-right: 1em; text-align: center; vertical-align: top\">(1e-10, 1e+10)</td>\n",
       "            <td style=\"padding-left: 1em; padding-right: 1em; text-align: center; vertical-align: top\">Uniform(1e-10, 1e+10)</td>\n",
       "        </tr>\n",
       "        <tr>\n",
       "            <td style=\"padding-left: 1em; padding-right: 1em; text-align: center; vertical-align: top\">*</td>\n",
       "            <td style=\"padding-left: 1em; padding-right: 1em; text-align: center; vertical-align: top\">Blackbody_2</td>\n",
       "            <td style=\"padding-left: 1em; padding-right: 1em; text-align: center; vertical-align: top\">kT</td>\n",
       "            <td style=\"padding-left: 1em; padding-right: 1em; text-align: center; vertical-align: top\">f * Blackbody.kT</td>\n",
       "            <td style=\"padding-left: 1em; padding-right: 1em; text-align: center; vertical-align: top\"></td>\n",
       "            <td style=\"padding-left: 1em; padding-right: 1em; text-align: center; vertical-align: top\"></td>\n",
       "        </tr>\n",
       "        <tr>\n",
       "            <td style=\"padding-left: 1em; padding-right: 1em; text-align: center; vertical-align: top\">3</td>\n",
       "            <td style=\"padding-left: 1em; padding-right: 1em; text-align: center; vertical-align: top\">Blackbody_2</td>\n",
       "            <td style=\"padding-left: 1em; padding-right: 1em; text-align: center; vertical-align: top\">K</td>\n",
       "            <td style=\"padding-left: 1em; padding-right: 1em; text-align: center; vertical-align: top\">1</td>\n",
       "            <td style=\"padding-left: 1em; padding-right: 1em; text-align: center; vertical-align: top\">(1e-10, 1e+10)</td>\n",
       "            <td style=\"padding-left: 1em; padding-right: 1em; text-align: center; vertical-align: top\">Uniform(1e-10, 1e+10)</td>\n",
       "        </tr>\n",
       "        <tr>\n",
       "            <td style=\"padding-left: 1em; padding-right: 1em; text-align: center; vertical-align: top\">4</td>\n",
       "            <td style=\"padding-left: 1em; padding-right: 1em; text-align: center; vertical-align: top\"></td>\n",
       "            <td style=\"padding-left: 1em; padding-right: 1em; text-align: center; vertical-align: top\">f</td>\n",
       "            <td style=\"padding-left: 1em; padding-right: 1em; text-align: center; vertical-align: top\">0.5</td>\n",
       "            <td style=\"padding-left: 1em; padding-right: 1em; text-align: center; vertical-align: top\">(0.01, 1)</td>\n",
       "            <td style=\"padding-left: 1em; padding-right: 1em; text-align: center; vertical-align: top\">Uniform(0.01, 1)</td>\n",
       "        </tr>\n",
       "    </tbody>\n",
       "</table></details>"
      ],
      "text/plain": [
       "Model: Blackbody + Blackbody_2 [add]\n",
       "┌─────┬─────────────┬───────────┬──────────────────┬────────────────┬───────────────────────┐\n",
       "│ No. │  Component  │ Parameter │      Value       │     Bound      │         Prior         │\n",
       "├─────┼─────────────┼───────────┼──────────────────┼────────────────┼───────────────────────┤\n",
       "│  1  │  Blackbody  │     kT    │        3         │ (0.0001, 200)  │  Uniform(0.0001, 200) │\n",
       "├─────┼─────────────┼───────────┼──────────────────┼────────────────┼───────────────────────┤\n",
       "│  2  │  Blackbody  │     K     │        1         │ (1e-10, 1e+10) │ Uniform(1e-10, 1e+10) │\n",
       "├─────┼─────────────┼───────────┼──────────────────┼────────────────┼───────────────────────┤\n",
       "│  *  │ Blackbody_2 │     kT    │ f * Blackbody.kT │                │                       │\n",
       "├─────┼─────────────┼───────────┼──────────────────┼────────────────┼───────────────────────┤\n",
       "│  3  │ Blackbody_2 │     K     │        1         │ (1e-10, 1e+10) │ Uniform(1e-10, 1e+10) │\n",
       "├─────┼─────────────┼───────────┼──────────────────┼────────────────┼───────────────────────┤\n",
       "│  4  │             │     f     │       0.5        │   (0.01, 1)    │    Uniform(0.01, 1)   │\n",
       "└─────┴─────────────┴───────────┴──────────────────┴────────────────┴───────────────────────┘"
      ]
     },
     "execution_count": 34,
     "metadata": {},
     "output_type": "execute_result"
    }
   ],
   "source": [
    "f = UniformParameter('f', 0.5, 0.01, 1.0)\n",
    "m10 = Blackbody() + Blackbody()\n",
    "m10.Blackbody_2.kT = f * m10.Blackbody.kT\n",
    "m10"
   ]
  },
  {
   "cell_type": "markdown",
   "id": "574fd2942fd7f1e9",
   "metadata": {
    "editable": true,
    "slideshow": {
     "slide_type": ""
    },
    "tags": []
   },
   "source": [
    "### Conclusion\n",
    "\n",
    "The parameter interface of ``ELISA`` provides versatile approaches to configuring\n",
    "the parameters of model components. You can use parameters with default\n",
    "configuration, or create parameters with custom values, bounds, and priors.\n",
    "Additionally, linking parameters across various model components is supported."
   ]
  }
 ],
 "metadata": {
  "kernelspec": {
   "display_name": "Python 3 (ipykernel)",
   "language": "python",
   "name": "python3"
  },
  "language_info": {
   "codemirror_mode": {
    "name": "ipython",
    "version": 3
   },
   "file_extension": ".py",
   "mimetype": "text/x-python",
   "name": "python",
   "nbconvert_exporter": "python",
   "pygments_lexer": "ipython3",
   "version": "3.10.12"
  }
 },
 "nbformat": 4,
 "nbformat_minor": 5
}
